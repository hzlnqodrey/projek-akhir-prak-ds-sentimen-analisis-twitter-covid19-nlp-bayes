{
 "cells": [
  {
   "cell_type": "markdown",
   "metadata": {},
   "source": [
    "# **Projek Akhir Praktikum Data Science**\n",
    "\n",
    "> Analisis Sentimen Mengenai Vaksin COVID-19 Di Indonesia Menggunakan Metode Naive Bayes Classifier dan NLP Pada Sosial Media Twitter\n",
    "\n",
    "**Oleh Kelompok 2 :**\n",
    "1. Hazlan Muhammad Qodri (123190080)\n",
    "2. Elisia Dwi Rahayu (123190062)\n",
    "3. Shania Septika Inayasari (123190055)\n",
    "\n",
    "**Penjelasan Projek :**\n",
    "\n",
    "Adapun pada penelitian menekankan kepada sentimen masyarakat terhadap mengenai vaksin COVID-19. Proses analisisnya akan dilakukan berdasarkan tweet yang menyertakan tagar vaksin dan pencarian di twitter dengan keyword vaksin covid 19."
   ]
  },
  {
   "cell_type": "markdown",
   "metadata": {},
   "source": [
    "# **1. Scraping Data from Twitter**"
   ]
  },
  {
   "cell_type": "code",
   "execution_count": null,
   "metadata": {},
   "outputs": [],
   "source": [
    "%pip install tweepy"
   ]
  },
  {
   "cell_type": "code",
   "execution_count": 10,
   "metadata": {},
   "outputs": [],
   "source": [
    "import tweepy\n",
    "import csv"
   ]
  },
  {
   "cell_type": "markdown",
   "metadata": {},
   "source": [
    "#### Secret Env Variable"
   ]
  },
  {
   "cell_type": "code",
   "execution_count": 17,
   "metadata": {},
   "outputs": [],
   "source": [
    "import os\n",
    "\n",
    "consumer_key = os.environ.get('consumer_key')\n",
    "consumer_secret = os.environ.get('consumer_key_secret')\n",
    "access_token = os.environ.get('access_token')\n",
    "access_token_secret = os.environ.get('access_token_secret')\n",
    "bearer_token = os.environ.get('bearer_token')"
   ]
  },
  {
   "cell_type": "code",
   "execution_count": 18,
   "metadata": {},
   "outputs": [
    {
     "name": "stdout",
     "output_type": "stream",
     "text": [
      "Response(data=[<Tweet id=1592726621819060224 text='[cm] kemaren aku abis cek plagiarisme buat proposal UP (di cek sama dosennya). kalo hasilnya nol gini beneran ga kena plagiarisme? atau ada kesalahan ya? aku kaget banget kok bisa nol\\U0001f972 kan harusnya engga yaa? https://t.co/xIa7ZTP0H4'>, <Tweet id=1592726617498927104 text='[cm] cari info beasiswa dmn ya biasanya'>, <Tweet id=1592726590001029121 text='/LT Drop buku self development andalan kalian yuk! Sender mau baca buku sekalian belajar lagi. Thank you 🌼'>, <Tweet id=1592726581084323842 text='gimana caranya bertahan ditengah badai deadline, revisi dan tekanan dari pembimbing tanpa support sistem. bagi tips please, dah mleyot bgt 😭😭 [cm]'>, <Tweet id=1592726506610229253 text='[cm] temenku mau sempro, perlu ngasih sesuatu ga sih? ngasih apa ya? temenku cuman dia doang selama kuliah jd gatau kalo temen sempro biasanya harus ngapain☹️☹️'>, <Tweet id=1592726420174024705 text='RT @noya_steffany: Good morning, tweeps!\\n\\nAn IT consultant at Pejaten Barat, Jaksel needs .NET Developer with below qualifications.\\n\\nMinta…'>, <Tweet id=1592726236627103744 text='[cm] ada yg punya contoh motivation letter untuk ngelamar magang? \\nbiasanya kaya gimana sih hal unik yang di maksud tu?\\n\\nthank youu https://t.co/aflzH9aSCd'>, <Tweet id=1592726198588952577 text='Tulisan bagus tp serem jg https://t.co/8o8VPruV1X'>, <Tweet id=1592725831373451266 text=\"I wonder whether it contributes to the mindset of people in affected countries, e.g. Indonesian thinking Europe is powerful because it's way bigger than us in size, especially since this is the only map most Indonesian knows. https://t.co/3KjNoaWpXG\">, <Tweet id=1592725820560543744 text='RT @artindetails: somewhere peaceful 🌄🌿 https://t.co/nMCsodhNK9'>, <Tweet id=1592725783474483203 text='belgian chocolate, crunchy malted choco dan red velvet https://t.co/qitmYNCJdU'>, <Tweet id=1592725690214150144 text='Maaf ya, Pak. 😭🙏 https://t.co/HuaioaQUce'>, <Tweet id=1592725633607798785 text='[cm] Anak semester 7 kalian masih sehat dan kuat? Aku akhirnya tumbang, udah hampir seminggu skripsi berhenti karena badan gak sanggup dipakai ngerjain (padahal masih kurang ratusan responden) \\U0001f972\\nSehat-sehat yaa kalian semua 🤗'>, <Tweet id=1592725555279187969 text='RT @artindetails: solace. https://t.co/JinFSZHFbR'>, <Tweet id=1592725545783300098 text='RT @artindetails: looks like straight from a fairytale. https://t.co/SgJ1qJrGW8'>, <Tweet id=1592725531191308288 text=\"RT @priyology: Thanks to a different tweet about out-of-touch university elites, I was able to track down information on Provost Croughan's…\">, <Tweet id=1592725521011732480 text='RT @artindetails: snuggles https://t.co/ZlgKE1aqUb'>, <Tweet id=1592725390921199616 text='[Cm] Mau dong baca POV dr yang ✨PARA BEBAN KELOMPOK✨ Soalnya selalu ngeliat yg ngeluh selalu yg kerja. Masa gak ada sih anak twitter yg beban kelompok? Mau tau dong gua alasannya, kenapa kalian memilih menjadi ✨beban✨ ketika temen kalian ✨banting tulang✨? https://t.co/0T8npr1hpR'>, <Tweet id=1592725377218392064 text='RT @arieare: Mercator projection makes the subtropic countries look way bigger than it is.'>, <Tweet id=1592725360185331713 text='RT @steventphoto2: @PopCrave When Tenoch Huerta was on screen wakanda wasn’t the only thing flooded https://t.co/RDTe9FQvbv'>, <Tweet id=1592725329910853636 text='[cm] guys jadi aku ambil penelitian skripsi yang bersifat kualitatif. terus boleh saran gak, apa aja yang harus aku siapin dan hindarin untuk penelitian kualitatif ini gak? thank you! &lt;3'>, <Tweet id=1592725319794196480 text='coba tunjukin feeds ig organisasi kampus yang menurut kalian kereeen bangettt [cm]'>, <Tweet id=1592725150428168192 text='[cm] guys, ada info lomba atau webinar di kampus soloraya gaa?? kalo ada, drop dong, makasiii'>, <Tweet id=1592725079292801027 text='STRIKE DAY 2: Apes together strong 🐒 https://t.co/IltZBti37m https://t.co/wYMXTS1Ngz'>, <Tweet id=1592725068043669504 text='RT @jek___: serius deh, kamu ga perlu ikut2an membenci orang yang dibenci sama temanmu, dia ya dia aja. jangan mentang2 teman jadi semua ga…'>, <Tweet id=1592724920391589893 text='/sm bisa ga make retinol 3x seminggu?'>, <Tweet id=1592724864846430208 text='Cypher buff is live\\n\\nLets gooo! https://t.co/v0XmWraeWz'>, <Tweet id=1592724489699086338 text='/lt guys, aku sering liat mf buat barter buku. kalau barter itu sistemnya gimana ya? tia hihi'>, <Tweet id=1592724298044567552 text=\"[Cm] Dalam penulisan skripsi, kalau mau menyebut diri sendiri lebih baik 'penulis' atau 'saya'? Mau nanya dosen pembimbing tapi masih belum bisa diajak ketemu dan tidak melayani bimbingan online:)\">, <Tweet id=1592724180000468992 text='[cm] gaiss mau nanya, kalian metode penelitian untuk skripsi pake buku siapa ??'>, <Tweet id=1592723978912555008 text='[cm] share dong guys pengalaman kalian jadi asdos. aku pengen tahu asdos itu ngapain aja. tia \\U0001faf6🏻'>, <Tweet id=1592723721001000960 text='RT @BacockObama: really need to know who saw this picture and thought “nicki minaj would be good to photoshop on this” https://t.co/gYUrn4Y…'>, <Tweet id=1592723660275449857 text='https://t.co/dfdUr6LEEh'>, <Tweet id=1592723555665731584 text='[cm] disini ada yg pernah penelitian kualitatif nya pake metode content analysis?'>, <Tweet id=1592723414695178246 text='Jinping pake batik kayak manajernya manajer lo dateng ke kantor pas hari Kamis'>, <Tweet id=1592723333262741504 text='[cm] cara bikin daftar isi di corel draw tuh gimana ya?'>, <Tweet id=1592723290644426753 text='Code; mau join project dong yg punya project, react, php'>, <Tweet id=1592723178895208448 text='/LT Halo. Aku pengin barter novel Robert. Ada yang mau barter? Novel apa aja. Bebas. Pokoknya novel. Terima kasih. https://t.co/9xv1OMJGya'>, <Tweet id=1592723106052775937 text='[Cm] ini kenapa statistika deskriptif ya? Apa yang bener pake statistika inferensial? Atau point b. Statistik deskriptif c. Statistik inferensial d. Uji kualitas data? Huhu bingung banget. Judulnya pengaruh x terhadap y makasihh https://t.co/vzqEqV69rT'>, <Tweet id=1592723058623909888 text=\"We all struggle. Some of us more than others. There’s nothing wrong in admitting that we do. It makes us human. Life is not a walk in the park. Life is hard. It's also beautiful. You’ll feel happy &amp; sad. Hurt &amp; joy. Whatever you do, be real and keep friends who are real too.\">, <Tweet id=1592723043906097152 text='Kalian yang magang, misalnya telat ngumpulin tugas gegara sakit. Itu izin ke perusahaan gmn ya? Aku lagi di fase ini soalnya. Ini ada tugas, aku masih sakit. Jadi ga fokus buat ngerjain. Mending bilang ga ya? Huhu. [Cm]'>, <Tweet id=1592722878566469634 text='https://t.co/4dsF1IwfUb'>, <Tweet id=1592722539347775488 text='[cm] bukan aku aja kan guysss yang semester 7 belum skripsian baru ngajuin judul doang 😭😭'>, <Tweet id=1592722536898273280 text='[cm] Nugas sendirian di perpusnas paling PW di lantai berapa ges?'>, <Tweet id=1592722531969925120 text='Guys, validasi ahli dosen biasanya berapa lama? [cm]'>, <Tweet id=1592722380694368256 text='Twitter is turning down 80% of its microservices. Will this cause a massive outage? Microservices are built to be resilient, but with complex dependencies, it’s hard to say. What do you think?\\n\\nIf you are unfamiliar with microservice, watch here: https://t.co/5tNV7rFv2g https://t.co/E6zQ4IupT2'>, <Tweet id=1592722188754640897 text='RT @Littleclouds07: Serba Pedessss Nagihhh 🌶🌶\\n\\nA Spicy Thread 🤤 https://t.co/d9CZLRgqZo'>, <Tweet id=1592722110765363200 text='[cm] kalo gini ngerjainnya gimana ya guys? udah pake slovin akunya gak nemu 😭 atau emg aku yang masih kurang paham https://t.co/h3HOvA7IuJ'>, <Tweet id=1592721885397385216 text='you can’t not going to Indonesia💔😩 @the1975 @the1975 literally we’re your second biggest listener https://t.co/I05dw6wReF'>, <Tweet id=1592721807781801984 text='[cm] info topik IoT (minimal 2 sensor) atau web untuk TA dong plisss, lagi pusing banget ga dapet2 judul😭🙏'>, <Tweet id=1592721688936222720 text='katanya masalah itu ada buat menempa kita biar makin kuat nyatanya makin hari berasa makin rapuh saja'>, <Tweet id=1592721055851765760 text='Engmeme! Depression. https://t.co/DQxg6KBLrK'>, <Tweet id=1592720850872336384 text='[cm] gegara speak up di group kelompok, klo yang kerja itu2 doang malah jadi masalah gini. Temen2 disini ada yang pernah gini juga? Terus abis itu gimana ya?'>, <Tweet id=1592720642578976768 text='NEED RESPONDEN ‼️‼️\\n\\nApakah diantara kalian ada yang sesuai dg kriteria ini?\\n1. Berusia 17-27 tahun\\n2. Memiliki Secreto Site\\n3. Pernah share link secreto ke Sosial Media pribadi\\nLet me DM u for my skrispii, thanks a lot! [CM]'>, <Tweet id=1592720485896589313 text=\"RT @_SleepingKoi_: Its finally time XD Debut is so closeeee. Let's see if everyone can get the model reveal before the debut on the 15th of…\">, <Tweet id=1592720339049807874 text='[cm] bantu dong, kalo esssai ttg gangguan bipolar yg di bahas apa ya selain pengertian penanganan 🙂 aku buntu banget..'>, <Tweet id=1592720051878391809 text='[cm] yang semester 7 mari kita bergandengan tangan menghadapi semester tuwa yang sedikit gila dan menguras mental ini☺️😭'>, <Tweet id=1592720002930442240 text='tetep belum bisa acc 😭'>, <Tweet id=1592720001743474688 text='[cm] pembim bing 1 udah acc sida ng akhir dari lama tapi pembim bing 2 susah banget acc padahal revisi hanya tanda baca dan itu udah ku revisi semua. Daftar sida ng akhir paling telat minggu depan, ngerasa sedih desp erate juga. Udah aku chat dan kudatengin tiap hari (cont)'>, <Tweet id=1592719827894145024 text='Sophie, you uncultured coro 🤣🤣🤣 https://t.co/JQkLehJ75r'>, <Tweet id=1592719673853779971 text='[cm] pliss bgt guys yg punya dm ke @zhafira_fara yaaa butuh bgt nih https://t.co/nCiK6fDVJg'>, <Tweet id=1592719623463399424 text='sama tindakanku ke keluarga, pengen marah dan feeling down karna mereka ga support. Takut juga kaya nanti ga lulus\" karna mereka pada ga support dan itu termasuk doa mereka gitu. Huhu minta saran, tindakan dan pendapat dong terkait semua ini. Thanks yaa'>, <Tweet id=1592719622242910210 text='[Cm] jadi aku pengen ambil s2 ke luar negeri, aku lagi proses persiapan untuk kesana. Tapi kalau aku bilang mau lanjut s2 ke ibu dan kaka aku, mereka ga support, dan bilang terlalu jauh. Padahal aku kaya pengeen banget buat coba ke luar negeri lanjut studi. Gimana ya sikap (cont)'>, <Tweet id=1592719396165677056 text='mending konfirmasi apa engga. [Cm]'>, <Tweet id=1592719394970664962 text='Jadi aku magang online, dan kebetulan aku sakit. Dl nya hari ini. Aku dah ngerjain dikit, tapi ya belum kelar semua. Misalnya izin telat ngumpulin apa kurang etis ya? Ini dari kemaren sih dikasihnya. Karena masih ga enak badan, jadi baru kesentuh hari ini. Saran dong, (cont)'>, <Tweet id=1592719332999823361 text='[CM] Halo guys adakah dari kalian yang sesuai dengan kriteria yang ada di poster ini? Kalau ada mohon bantuannya untuk ngisi yaa, makasih yaa gaes yaa🙏 https://t.co/hQwtmJW0jb'>, <Tweet id=1592719231208263682 text='/sm izin nanya kak, apakah hasil tes rohani nnti ada pengaruh apa gtu kak atau hanya sekedar saja? Terimakasih 🙏'>, <Tweet id=1592718688582479872 text='[cm] agak lain emang, mending kasih atau ga? https://t.co/oGENqkuCU4'>, <Tweet id=1592718397346762752 text='Yang anak d3 pas nyusun TA sama KP bagi waktunya gimana gais, biar ga telat lulus [cm]'>, <Tweet id=1592718337091387392 text='[Cm] kalian sering merasa gatal-gatal juga gak ya pas baca buku di perpus? \\nAku sering banget gatal tapi kali ini lumayan parah gatal berhari-hari + udah kayak k0rengan gitu.\\n\\nAda tips gak ya buat mengatasinya :\" soalnya aku masih harus nyari2 referensi buku nih'>, <Tweet id=1592717774995931136 text='Biar lulus 3,5 tahun brarti udah harus nyusun bab 1-3 dan sempro di semester berapa ya brarti? [cm]'>, <Tweet id=1592717758193881089 text='3 hari pp bali resulting to my feet bengkak badan ngelu sakit semua pusing kek wow bisa gini ya'>, <Tweet id=1592717717496135680 text='[cm] BUAT ANAK PSIKOLOG PLS BANTU DONG CUZ URGENT BGT😭😭😭 MAKASIH BANYAK SEBELUMNHA https://t.co/UGhkqvBO1Q'>, <Tweet id=1592717677931290626 text='[cm] di sini ada anak hukum yg mau publikasi jurnal ke sinta gak?'>, <Tweet id=1592717439527047170 text='Buat nyerahin wajah (glowing) oke serum av0skin atau y0u ya gais? /sm'>, <Tweet id=1592717399803170817 text='RT @jaebeomscat7: Same energy https://t.co/w56Ln9nq5A'>, <Tweet id=1592716993001828352 text='Sumpah ya /sm gue kaget lgsg buka hp padahal lagi didepan rumah cuma karna dengar notif telegram dan grup wa bunyi bersamaan 😭😭😭 ini jantung kapan tenangnya wahai bsdm'>, <Tweet id=1592716874055237632 text='[cm] share share sender pengen tau https://t.co/rJ1LhqHOOx'>, <Tweet id=1592716692018192384 text='reliabilitas kan ya ?'>, <Tweet id=1592716690886127616 text='[cm] Mau tanya\\nAngket yg kita guna in itu aitemnya\\nHasil seleksi uji validitas sama reliabilitas kan ya ?\\nMisal aitem asli 50\\nUji validitas yg lolos cuma 35\\nSedangkan uji reliabilitas yg lolos cuma 38\\n\\nItu yg kita pakek yang lolos uji keduanya kan ua ? Uji validitas+ uji (cont)'>, <Tweet id=1592716638826418177 text='[cm] gaenak juga ya kost deket kampus. Ada temen yg tiba-tiba datang ke kost padahal aku udah nolak baik\" gabisa. mana inituh temen yg gak deket gitu cuma sebatas kenal nama doang😔'>, <Tweet id=1592716585864613888 text='[cm] ada yang tau ga web untuk resume video youtube?thankyouu 😭🙏🏻'>, <Tweet id=1592716575488241664 text=\"they're so unserious😂😂😂 https://t.co/pD63YXNbOW\">, <Tweet id=1592716563521900544 text='[cm] aku baru aja selesai ujian hasil skripsi, heheh dan aku sedih gais. lulus, tapi ya begitu aku ga puas ingin rasanya ngulang.\\n\\norang dpet unoff gelar s1 bahagia akunya nangis hahahah :’'>, <Tweet id=1592716552222441472 text='[cm] buat yg udah/lagi skripsian biasanya kalian ada nargetin gitu ga misal bab 2 bab 3 harus selesai berapa minggu. kalo iya, boleh liat list targetnya ngga? makasih'>, <Tweet id=1592716258167861248 text=\"[Cm] ternyata presentasi nya dimajuinnnn gaes :') belom siap tapi gapapaa. Alhamdulillah udh presentasi, dapet banyak masukan :') yokk semangat revisian 💪🙂\\nhttps://t.co/EVRdulhmo2 https://t.co/ZcggEwkjRQ\">, <Tweet id=1592716175158280192 text='Gais, keknya smt 5 lagi banyak yg demot ya? Temenku banyak yg nelat ngumpulin laprak [cm]'>, <Tweet id=1592716027372396545 text='Yang bilang makanan jogja manis semua belum pernah makan sate petir pak nano kali ya 😤'>, <Tweet id=1592716009903099905 text='[cm] haloo, aku mau tanya2 buat survei penelitianku sedikit, kira2 aplikasi/website/e-resources yang paling sering kalian pakai utk kebutuhan informasi di perkuliahan apa aja yaa? gpp kalo mau nyebut sistem informasi/web dari kampusnya jugaa. thx in advance &lt;3 https://t.co/316SZXMdbL'>, <Tweet id=1592715832538210304 text='paradise. https://t.co/0m2S4mLvaG'>, <Tweet id=1592715732005318657 text='[cm] posisi aku lagi magang dan gabut banget, udah tanya ada kerjaan apa aja tapi katanya ga ada (ada sih tapi bukan kapasitasnya anak magang gitu) terus ada saran ga aku harus ngapain?'>, <Tweet id=1592715719405293568 text='/lt mau tanya dong. karya Valerie Patkar itu nyambung gak ya ? atau semua stand alone ?'>, <Tweet id=1592715428086059008 text='[cm] apa yang kamu pengen ketahui dari suatu kota?'>, <Tweet id=1592715404505280512 text='[cm] ayo ayo ayo tetap jaga kewarasan!!! https://t.co/gFLHDOel1J'>, <Tweet id=1592715329125330944 text='https://t.co/Sv284MNtTI'>, <Tweet id=1592715208845164545 text='/sm kaget ada notif telegram, jedag jedug, ternyata imbauan pemberkasan😭 https://t.co/DtjG4fTYH3'>], includes={}, errors=[], meta={'next_token': '7140dibdnow9c7btw424c292msxq3j7ymczdj8va2gaph', 'result_count': 96, 'newest_id': '1592726621819060224', 'oldest_id': '1592715208845164545'})\n"
     ]
    }
   ],
   "source": [
    "# token for twitter developers\n",
    "client = tweepy.Client(\n",
    "    bearer_token=bearer_token,\n",
    "    consumer_key=consumer_key,\n",
    "    consumer_secret=consumer_secret,\n",
    "    access_token=access_token,\n",
    "    access_token_secret=access_token_secret,\n",
    ")\n",
    "\n",
    "response = client.get_home_timeline()\n",
    "print(response)\n"
   ]
  }
 ],
 "metadata": {
  "kernelspec": {
   "display_name": "Python 3.8.0 64-bit",
   "language": "python",
   "name": "python3"
  },
  "language_info": {
   "codemirror_mode": {
    "name": "ipython",
    "version": 3
   },
   "file_extension": ".py",
   "mimetype": "text/x-python",
   "name": "python",
   "nbconvert_exporter": "python",
   "pygments_lexer": "ipython3",
   "version": "3.8.0"
  },
  "orig_nbformat": 4,
  "vscode": {
   "interpreter": {
    "hash": "898a950986d43450680efc03f9903704e020e6e6b23d64c62a66308a081cc53c"
   }
  }
 },
 "nbformat": 4,
 "nbformat_minor": 2
}
