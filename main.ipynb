{
 "cells": [
  {
   "cell_type": "markdown",
   "metadata": {},
   "source": [
    "# **Projek Akhir Praktikum Data Science**\n",
    "\n",
    "> Analisis Sentimen Mengenai Vaksin COVID-19 Di Indonesia Menggunakan Metode Naive Bayes Classifier dan NLP Pada Sosial Media Twitter\n",
    "\n",
    "**Oleh Kelompok 2 :**\n",
    "1. Hazlan Muhammad Qodri (123190080) @hzlnqodrey\n",
    "2. Elisia Dwi Rahayu (123190062) @elisiadwirahayu\n",
    "3. Shania Septika Inayasari (123190055) @shaniainayasari\n",
    "\n",
    "**Penjelasan Projek :**\n",
    "\n",
    "Adapun pada penelitian menekankan kepada sentimen masyarakat terhadap mengenai vaksin COVID-19. Proses analisisnya akan dilakukan berdasarkan tweet yang menyertakan tagar vaksin dan pencarian di twitter dengan keyword vaksin covid 19."
   ]
  },
  {
   "cell_type": "markdown",
   "metadata": {},
   "source": [
    "## **1. Scraping Data from Twitter**"
   ]
  },
  {
   "cell_type": "code",
   "execution_count": null,
   "metadata": {},
   "outputs": [],
   "source": [
    "%pip install snscrape"
   ]
  },
  {
   "cell_type": "code",
   "execution_count": 67,
   "metadata": {},
   "outputs": [],
   "source": [
    "import pandas as pd\n",
    "import numpy as np\n",
    "import snscrape.modules.twitter as sntwitter\n",
    "import re\n"
   ]
  },
  {
   "cell_type": "markdown",
   "metadata": {},
   "source": [
    "#### Query"
   ]
  },
  {
   "cell_type": "code",
   "execution_count": 68,
   "metadata": {},
   "outputs": [],
   "source": [
    "# Get All Covid Sentiment Data from January 1st, 2020 until November 1st, 2022\n",
    "query = \"covid since:2020-01-01 until:2022-11-01 lang:id\"\n",
    "limit = 2000 # limit 50k rows"
   ]
  },
  {
   "cell_type": "code",
   "execution_count": 69,
   "metadata": {},
   "outputs": [
    {
     "name": "stderr",
     "output_type": "stream",
     "text": [
      "C:\\Users\\HAZLAN M QODRI\\AppData\\Local\\Temp\\ipykernel_11752\\2473716662.py:9: FutureWarning: username is deprecated, use user.username instead\n",
      "  tweet.username,\n"
     ]
    },
    {
     "name": "stdout",
     "output_type": "stream",
     "text": [
      "Scraping has completed!\n"
     ]
    }
   ],
   "source": [
    "tweets = []\n",
    "\n",
    "for tweet in sntwitter.TwitterSearchScraper(query).get_items():\n",
    "    if len(tweets) == limit:\n",
    "        break\n",
    "    else:\n",
    "        tweets.append([\n",
    "            tweet.date,\n",
    "            tweet.username,\n",
    "            tweet.content\n",
    "        ])\n",
    "\n",
    "filename = 'tweets_covid_dataset_2k_raw_noindex.csv'\n",
    "tweets_df = pd.DataFrame(tweets, columns=['Tanggal', 'Username', 'Text'])\n",
    "tweets_df.to_csv(filename, index=False)\n",
    "print('Scraping has completed!')"
   ]
  },
  {
   "cell_type": "markdown",
   "metadata": {},
   "source": [
    "## **2. Wrangling Data** (Preprocessing)"
   ]
  },
  {
   "cell_type": "code",
   "execution_count": null,
   "metadata": {},
   "outputs": [],
   "source": [
    "%pip install tweet-preprocessor\n",
    "%pip install textblob\n",
    "%pip install wordcloud\n",
    "%pip install nltk"
   ]
  },
  {
   "cell_type": "code",
   "execution_count": null,
   "metadata": {},
   "outputs": [],
   "source": [
    "import preprocessor as preproc\n",
    "from textblob import TextBlob\n",
    "from nltk.stem import PorterStemmer\n",
    "from nltk.tokenize import word_tokenize\n",
    "import csv"
   ]
  },
  {
   "cell_type": "code",
   "execution_count": 58,
   "metadata": {},
   "outputs": [],
   "source": [
    "# get data from dataset\n",
    "data = pd.read_csv('https://raw.githubusercontent.com/hzlnqodrey/projek-akhir-prak-ds-sentimen-analisis-twitter-covid19-nlp-bayes/main/tweets_covid_dataset_50k_raw.csv')"
   ]
  },
  {
   "cell_type": "code",
   "execution_count": 59,
   "metadata": {},
   "outputs": [
    {
     "name": "stdout",
     "output_type": "stream",
     "text": [
      "<class 'pandas.core.frame.DataFrame'>\n",
      "RangeIndex: 50000 entries, 0 to 49999\n",
      "Data columns (total 4 columns):\n",
      " #   Column      Non-Null Count  Dtype \n",
      "---  ------      --------------  ----- \n",
      " 0   Unnamed: 0  50000 non-null  int64 \n",
      " 1   Tanggal     50000 non-null  object\n",
      " 2   Username    50000 non-null  object\n",
      " 3   Text        50000 non-null  object\n",
      "dtypes: int64(1), object(3)\n",
      "memory usage: 1.5+ MB\n"
     ]
    }
   ],
   "source": [
    "data.info()"
   ]
  },
  {
   "cell_type": "code",
   "execution_count": 60,
   "metadata": {},
   "outputs": [
    {
     "data": {
      "text/html": [
       "<div>\n",
       "<style scoped>\n",
       "    .dataframe tbody tr th:only-of-type {\n",
       "        vertical-align: middle;\n",
       "    }\n",
       "\n",
       "    .dataframe tbody tr th {\n",
       "        vertical-align: top;\n",
       "    }\n",
       "\n",
       "    .dataframe thead th {\n",
       "        text-align: right;\n",
       "    }\n",
       "</style>\n",
       "<table border=\"1\" class=\"dataframe\">\n",
       "  <thead>\n",
       "    <tr style=\"text-align: right;\">\n",
       "      <th></th>\n",
       "      <th>Unnamed: 0</th>\n",
       "      <th>Tanggal</th>\n",
       "      <th>Username</th>\n",
       "      <th>Text</th>\n",
       "    </tr>\n",
       "  </thead>\n",
       "  <tbody>\n",
       "    <tr>\n",
       "      <th>26457</th>\n",
       "      <td>26457</td>\n",
       "      <td>2022-10-20 09:29:40+00:00</td>\n",
       "      <td>dinadinda9</td>\n",
       "      <td>@YanniAffan @alwie888 Busui dulu awal covid tdk boleh divaksin, lah habis itu terbitlah peraturan boleh divaksin 🙃</td>\n",
       "    </tr>\n",
       "    <tr>\n",
       "      <th>1842</th>\n",
       "      <td>1842</td>\n",
       "      <td>2022-10-31 05:09:57+00:00</td>\n",
       "      <td>SZakaera</td>\n",
       "      <td>@mynohomar Betul. Bantu usahawan kecil, ramai yang terkesan selepas pandemik covid 19.</td>\n",
       "    </tr>\n",
       "    <tr>\n",
       "      <th>12234</th>\n",
       "      <td>12234</td>\n",
       "      <td>2022-10-26 09:07:19+00:00</td>\n",
       "      <td>Rini703</td>\n",
       "      <td>@BEMUI_Official Wahai adek adek mahasiswa saya emak2 kelahiran 70 sdh merasakan pemerintahan mbah Harto sampai Jokowi ..baru ini saya merasa  Indonesia lebih maju..apalagi setelah covid melanda dunia bersyukur adek adek masih hidup !!!!\\n#mahasewa</td>\n",
       "    </tr>\n",
       "    <tr>\n",
       "      <th>14095</th>\n",
       "      <td>14095</td>\n",
       "      <td>2022-10-25 09:22:20+00:00</td>\n",
       "      <td>mhdhafizee</td>\n",
       "      <td>@sillyp1e penat2 tangan ni duk email &amp;amp; komen kat IG Krispy Kreme tu, suruh dia bukak kat JB - way before COVID happen. but they all choose negeri P first. what do do 🙄</td>\n",
       "    </tr>\n",
       "    <tr>\n",
       "      <th>40811</th>\n",
       "      <td>40811</td>\n",
       "      <td>2022-10-13 09:30:00+00:00</td>\n",
       "      <td>sinaksenjaa</td>\n",
       "      <td>Luar biasa sekarang Indonesia bisa memproduksi vaksin Covid-19 sendiri dgn kapasitas kurang lebih 20 jt dosis per tahun \\n#JokowiErickVaksinRI https://t.co/Th1iJNcNwB</td>\n",
       "    </tr>\n",
       "  </tbody>\n",
       "</table>\n",
       "</div>"
      ],
      "text/plain": [
       "       Unnamed: 0                    Tanggal     Username                                                                                                                                                                                                                                                     Text\n",
       "26457       26457  2022-10-20 09:29:40+00:00   dinadinda9                                                                                                                                       @YanniAffan @alwie888 Busui dulu awal covid tdk boleh divaksin, lah habis itu terbitlah peraturan boleh divaksin 🙃\n",
       "1842         1842  2022-10-31 05:09:57+00:00     SZakaera                                                                                                                                                                   @mynohomar Betul. Bantu usahawan kecil, ramai yang terkesan selepas pandemik covid 19.\n",
       "12234       12234  2022-10-26 09:07:19+00:00      Rini703  @BEMUI_Official Wahai adek adek mahasiswa saya emak2 kelahiran 70 sdh merasakan pemerintahan mbah Harto sampai Jokowi ..baru ini saya merasa  Indonesia lebih maju..apalagi setelah covid melanda dunia bersyukur adek adek masih hidup !!!!\\n#mahasewa\n",
       "14095       14095  2022-10-25 09:22:20+00:00   mhdhafizee                                                                              @sillyp1e penat2 tangan ni duk email &amp; komen kat IG Krispy Kreme tu, suruh dia bukak kat JB - way before COVID happen. but they all choose negeri P first. what do do 🙄\n",
       "40811       40811  2022-10-13 09:30:00+00:00  sinaksenjaa                                                                                   Luar biasa sekarang Indonesia bisa memproduksi vaksin Covid-19 sendiri dgn kapasitas kurang lebih 20 jt dosis per tahun \\n#JokowiErickVaksinRI https://t.co/Th1iJNcNwB"
      ]
     },
     "execution_count": 60,
     "metadata": {},
     "output_type": "execute_result"
    }
   ],
   "source": [
    "data.sample(n=5)"
   ]
  },
  {
   "cell_type": "markdown",
   "metadata": {},
   "source": [
    "##### 1. Case Folding"
   ]
  },
  {
   "cell_type": "code",
   "execution_count": 61,
   "metadata": {},
   "outputs": [
    {
     "name": "stdout",
     "output_type": "stream",
     "text": [
      "Case Folding Result : \n",
      "\n",
      "0                         @riderkulineran dulu di barat upn ada warung kayuh bambai. bumbu habangnya sungguh banjar banar. semenjak tahun ke 2 covid mereka tutup. padahal itu warung yang sangat mengobati kerinduan sama masakan banjar. nasi kuning dan soto banjarnya juara sekali 🥺\n",
      "1                                                                                                                                                                                                                                         segala sakit yg disalahin vaksin covid. lieur.\n",
      "2    @msaid_didu bukankah kamu dulu bagian rezim?, namun setelah terdepak dan sakit hati karena rezekinya hilang maka jadi sok kritis? dulu mengkritisi vaksin covid, namun saat divaksin pamer di medsos. ucapanmu tidak konsisten bro...semua karena sakit hati atas hilangnya rezeki.\n",
      "3                                                                                                                                                                             @buggiyx @sbyfess \"aku kan ganti lama dulu. sebelum covid menyerang. sdh lama. beda tahun y beda hrga mas\"\n",
      "4                                                                                                                                                                                                                                 trus masku kena covid lagi kek yah udah endemi masi ae\n",
      "Name: Text, dtype: object\n",
      "33777                                                                                babinsa desa banjarejo serka rubadi melaksanakan kegiatan secara door to door dan sosialisasi himbauan covid 19 dan cara yang baik dan benar mengunakan masker. senin, 17-10-2022 https://t.co/ttvbnqjwa6\n",
      "42153    presidensi g20 indonesia 2022, dari gelaran side event hingga ktt-nya pada november mendatang, membangun banyak optimisme bahwa dalam waktu yang tidak lama, sektor pariwisata bali dan indonesia secara keseluruhan, bangkit usai dihantam pandemi covid-19. https://t.co/m3y3hpydo9\n",
      "5077                                                                                                                                                                                                               ini temen sekelas gue covid mana kemarin banyak interaksi sama gweh😭😭😭😭😭😭😭😭\n",
      "436                                                                                                                                                                                                                 @teddymoan aturan baru ga boleh mouth to mouth sekarang, takut covid hahah\n",
      "45749                                                                                         @tanyakanrl @jungjeahyunie pas covid, ners nya kyknya msh baru lulus, ngambil darah tangan gue sampe ditusuk 3x kanan kiri ga dapet”. giliran dokternya sekali ambil lgsg dapet, buangsattt mbak\n",
      "Name: Text, dtype: object\n",
      "49995                                                                                     sampai endemi covid-19 tiba, tetap lakukan prokes dan vaksin complete covid-19\\n#endemicovid\\n#indonesiasehatindonesiahebat\\n#beritacovid\\n@singkepbarat\\n@singamaniapasib\n",
      "49996                                      \"mungkin sebentar lagi akan kita nyatakan pandemi covid-19 sudah berakhir\" -jokowi\\n#endemicovid\\n#indonesiasehatindonesiahebat\\n#beritacovid\\n@restamojokerto\\n@s4d46\\n@saipolarifa\\n@devimanda5 https://t.co/kgkhfhmm4d\n",
      "49997                                                      pak jokowi imbau kemungkinan akan umumkan endemi covid-19 sebentar lagi \\n#endemicovid\\n#indonesiasehatindonesiahebat\\n#beritacovid\\n@satrialakpur\\n@bocahinfo\\n@lebakkab\\n@terkerenhub\\n@diskominfolebak\n",
      "49998                              presiden jokowi resmikan pabrik vaksin covid-19 berbasis mrna pertama di asia tenggara\\n#endemicovid\\n#indonesiasehatindonesiahebat\\n#beritacovid\\n@beritacovid\\n@akusehatklinik\\n@yakin_sehat\\n@bkcjaman https://t.co/1i3e9getfj\n",
      "49999    pandemi sudah mulai mereda. namun jangan menjadi titik lengah kita tidak waspada covid-19 \\n#endemicovid\\n#indonesiasehatindonesiahebat\\n#beritacovid\\n@catchmeupid\\n@herawanariston1\\n@laporcovid\\n@riea_mariska86\\n@saputrananda0 https://t.co/hadjyluarn\n",
      "Name: Text, dtype: object\n",
      "\n",
      "\n",
      "\n",
      "\n"
     ]
    }
   ],
   "source": [
    "data['Text'] = data['Text'].str.lower()\n",
    "print('Case Folding Result : \\n')\n",
    "print(data['Text'].head(5))\n",
    "print(data['Text'].sample(n=5))\n",
    "print(data['Text'].tail(5))\n",
    "print('\\n\\n\\n')"
   ]
  },
  {
   "cell_type": "code",
   "execution_count": 62,
   "metadata": {},
   "outputs": [
    {
     "data": {
      "text/plain": [
       "Unnamed: 0    0\n",
       "Tanggal       0\n",
       "Username      0\n",
       "Text          0\n",
       "dtype: int64"
      ]
     },
     "execution_count": 62,
     "metadata": {},
     "output_type": "execute_result"
    }
   ],
   "source": [
    "data.isnull().sum()"
   ]
  },
  {
   "cell_type": "markdown",
   "metadata": {},
   "source": [
    "##### 2. Cleaning"
   ]
  },
  {
   "cell_type": "code",
   "execution_count": 63,
   "metadata": {},
   "outputs": [
    {
     "name": "stdout",
     "output_type": "stream",
     "text": [
      "Cleaning Result : \n",
      "\n"
     ]
    }
   ],
   "source": [
    "def preprocessing_data(x):\n",
    "    return preproc.clean(x)\n",
    "\n",
    "data['Text'] = data['Text'].apply(preprocessing_data)\n",
    "print('Cleaning Result : \\n')"
   ]
  },
  {
   "cell_type": "code",
   "execution_count": 64,
   "metadata": {},
   "outputs": [
    {
     "data": {
      "text/plain": [
       "0                                      dulu di barat upn ada warung kayuh bambai. bumbu habangnya sungguh banjar banar. semenjak tahun ke covid mereka tutup. padahal itu warung yang sangat mengobati kerinduan sama masakan banjar. nasi kuning dan soto banjarnya juara sekali\n",
       "1                                                                                                                                                                                                                                  segala sakit yg disalahin vaksin covid. lieur.\n",
       "2         bukankah kamu dulu bagian rezim?, namun setelah terdepak dan sakit hati karena rezekinya hilang maka jadi sok kritis? dulu mengkritisi vaksin covid, namun saat divaksin pamer di medsos. ucapanmu tidak konsisten bro...semua karena sakit hati atas hilangnya rezeki.\n",
       "3                                                                                                                                                                                        \"aku kan ganti lama dulu. sebelum covid menyerang. sdh lama. beda tahun y beda hrga mas\"\n",
       "4                                                                                                                                                                                                                          trus masku kena covid lagi kek yah udah endemi masi ae\n",
       "5                                                                                                                                    covid-19 subvarian xbb dilaporkan telah masuk ke bali, jakarta dan sejumlah wilayah lain di indonesia, tetapi kabar dari kemenkes bikin lega\n",
       "6                                                                                                                                                                                                                covid-19 subvarian xbb masuk bali, kabar dari kemenkes bikinlega\n",
       "7                                            pemerintah kerajaan arab saudi menyatakan masih mewajibkan vaksinasi meningitis bagi jamaah umrah indonesia yang akan pergi ke tanah suci. pencabutan persyaratan kesehatan bagi jamaah umrah hanya berlaku bagi vaksinasi covid-19.\n",
       "8                                                                                                                                                                                                                              sakit tekak level . covid ritu pun tak sakit mcmni\n",
       "9     menteri kesehatan ri meminta masyarakat untuk mewaspadai penularan covid-19 pada awal tahun , apalagi dengan masuknya virus omicron varian xbb di indonesia, beberapa waktu lalu.indonesia masih menjadi salah satu negara dengan jumlah kasus covid-19 tertinggi di dunia.\n",
       "10     kementerian kesehatan ri meminta masyarakat untuk mewaspadai melonjaknya kasus baru covid-19 di awal tahun , apalagi setelah masuknya virus omicron varian xbb di indonesia, beberapa hari lalu.dki jakarta masih menjadi yang tertinggi dalam jumlah kasus baru covid-19.\n",
       "11                                                                                                               malaysia untuk mendapatkan vaksin bivalen pfizer yang dikemas kini - : malaysia akan menerima bentuk terkini vaksin covid-19 yang dikeluarkan oleh pfizer-bionte\n",
       "12                                                                                                                                                                   asik juga sampe kampus jam an. jd inget dulu waktu sblm covid selalu dateng jam segituan, kampus masih sepii\n",
       "13                                                                                                                                                                                                                        kemenkes minta waspadai penularan covid - di awal tahun\n",
       "14                                                                                                                                                                                                                                                           covid baya remember?\n",
       "Name: Text, dtype: object"
      ]
     },
     "metadata": {},
     "output_type": "display_data"
    }
   ],
   "source": [
    "pd.set_option('display.max_rows', None)\n",
    "pd.set_option('display.max_columns', None)\n",
    "pd.set_option('display.width', 2000)\n",
    "pd.set_option('display.float_format', '{:20,.2f}'.format)\n",
    "pd.set_option('display.max_colwidth', None)\n",
    "display(data['Text'].head(15))\n"
   ]
  },
  {
   "cell_type": "markdown",
   "metadata": {},
   "source": [
    "##### 3. Tokenizing"
   ]
  },
  {
   "cell_type": "code",
   "execution_count": 65,
   "metadata": {},
   "outputs": [
    {
     "name": "stdout",
     "output_type": "stream",
     "text": [
      "Tokenizing Result : \n",
      "\n"
     ]
    }
   ],
   "source": [
    "def tokenize_data(x):\n",
    "    return word_tokenize(x)\n",
    "\n",
    "data['Text'] = data['Text'].apply(tokenize_data)\n",
    "print('Tokenizing Result : \\n')\n"
   ]
  },
  {
   "cell_type": "code",
   "execution_count": 66,
   "metadata": {},
   "outputs": [
    {
     "data": {
      "text/plain": [
       "0                                      dulu di barat upn ada warung kayuh bambai. bumbu habangnya sungguh banjar banar. semenjak tahun ke covid mereka tutup. padahal itu warung yang sangat mengobati kerinduan sama masakan banjar. nasi kuning dan soto banjarnya juara sekali\n",
       "1                                                                                                                                                                                                                                  segala sakit yg disalahin vaksin covid. lieur.\n",
       "2         bukankah kamu dulu bagian rezim?, namun setelah terdepak dan sakit hati karena rezekinya hilang maka jadi sok kritis? dulu mengkritisi vaksin covid, namun saat divaksin pamer di medsos. ucapanmu tidak konsisten bro...semua karena sakit hati atas hilangnya rezeki.\n",
       "3                                                                                                                                                                                        \"aku kan ganti lama dulu. sebelum covid menyerang. sdh lama. beda tahun y beda hrga mas\"\n",
       "4                                                                                                                                                                                                                          trus masku kena covid lagi kek yah udah endemi masi ae\n",
       "5                                                                                                                                    covid-19 subvarian xbb dilaporkan telah masuk ke bali, jakarta dan sejumlah wilayah lain di indonesia, tetapi kabar dari kemenkes bikin lega\n",
       "6                                                                                                                                                                                                                covid-19 subvarian xbb masuk bali, kabar dari kemenkes bikinlega\n",
       "7                                            pemerintah kerajaan arab saudi menyatakan masih mewajibkan vaksinasi meningitis bagi jamaah umrah indonesia yang akan pergi ke tanah suci. pencabutan persyaratan kesehatan bagi jamaah umrah hanya berlaku bagi vaksinasi covid-19.\n",
       "8                                                                                                                                                                                                                              sakit tekak level . covid ritu pun tak sakit mcmni\n",
       "9     menteri kesehatan ri meminta masyarakat untuk mewaspadai penularan covid-19 pada awal tahun , apalagi dengan masuknya virus omicron varian xbb di indonesia, beberapa waktu lalu.indonesia masih menjadi salah satu negara dengan jumlah kasus covid-19 tertinggi di dunia.\n",
       "10     kementerian kesehatan ri meminta masyarakat untuk mewaspadai melonjaknya kasus baru covid-19 di awal tahun , apalagi setelah masuknya virus omicron varian xbb di indonesia, beberapa hari lalu.dki jakarta masih menjadi yang tertinggi dalam jumlah kasus baru covid-19.\n",
       "11                                                                                                               malaysia untuk mendapatkan vaksin bivalen pfizer yang dikemas kini - : malaysia akan menerima bentuk terkini vaksin covid-19 yang dikeluarkan oleh pfizer-bionte\n",
       "12                                                                                                                                                                   asik juga sampe kampus jam an. jd inget dulu waktu sblm covid selalu dateng jam segituan, kampus masih sepii\n",
       "13                                                                                                                                                                                                                        kemenkes minta waspadai penularan covid - di awal tahun\n",
       "14                                                                                                                                                                                                                                                           covid baya remember?\n",
       "Name: Text, dtype: object"
      ]
     },
     "metadata": {},
     "output_type": "display_data"
    }
   ],
   "source": [
    "pd.set_option('display.max_rows', None)\n",
    "pd.set_option('display.max_columns', None)\n",
    "pd.set_option('display.width', 2000)\n",
    "pd.set_option('display.float_format', '{:20,.2f}'.format)\n",
    "pd.set_option('display.max_colwidth', None)\n",
    "display(data['Text'].head(15))"
   ]
  },
  {
   "cell_type": "markdown",
   "metadata": {},
   "source": [
    "##### 4. Filtering"
   ]
  },
  {
   "cell_type": "markdown",
   "metadata": {},
   "source": [
    "## **2.1 Stemming**"
   ]
  },
  {
   "cell_type": "markdown",
   "metadata": {},
   "source": [
    "## **2.2 Menejermah Tweet Clean hasil Preproc ke Bahasa Inggris** (Translating)"
   ]
  },
  {
   "cell_type": "markdown",
   "metadata": {},
   "source": [
    "## **3. Modelling Data** (Modeling and Training)"
   ]
  },
  {
   "cell_type": "markdown",
   "metadata": {},
   "source": [
    "## **4. Klasifikasi Data dengan Naive Bayes** (Classification)"
   ]
  }
 ],
 "metadata": {
  "kernelspec": {
   "display_name": "Python 3.8.0 64-bit",
   "language": "python",
   "name": "python3"
  },
  "language_info": {
   "codemirror_mode": {
    "name": "ipython",
    "version": 3
   },
   "file_extension": ".py",
   "mimetype": "text/x-python",
   "name": "python",
   "nbconvert_exporter": "python",
   "pygments_lexer": "ipython3",
   "version": "3.8.0"
  },
  "orig_nbformat": 4,
  "vscode": {
   "interpreter": {
    "hash": "898a950986d43450680efc03f9903704e020e6e6b23d64c62a66308a081cc53c"
   }
  }
 },
 "nbformat": 4,
 "nbformat_minor": 2
}
