{
 "cells": [
  {
   "cell_type": "markdown",
   "metadata": {},
   "source": [
    "# **Projek Akhir Praktikum Data Science**\n",
    "\n",
    "> Analisis Sentimen Mengenai Vaksin COVID-19 Di Indonesia Menggunakan Metode Naive Bayes Classifier dan NLP Pada Sosial Media Twitter\n",
    "\n",
    "**Oleh Kelompok 2 :**\n",
    "1. Hazlan Muhammad Qodri (123190080) @hzlnqodrey\n",
    "2. Elisia Dwi Rahayu (123190062) @elisiadwirahayu\n",
    "3. Shania Septika Inayasari (123190055) @shaniainayasari\n",
    "\n",
    "**Penjelasan Projek :**\n",
    "\n",
    "Adapun pada penelitian menekankan kepada sentimen masyarakat terhadap mengenai vaksin COVID-19. Proses analisisnya akan dilakukan berdasarkan tweet yang menyertakan tagar vaksin dan pencarian di twitter dengan keyword vaksin covid 19."
   ]
  },
  {
   "cell_type": "markdown",
   "metadata": {},
   "source": [
    "## **1. Scraping Data from Twitter**"
   ]
  },
  {
   "cell_type": "code",
   "execution_count": null,
   "metadata": {},
   "outputs": [],
   "source": [
    "%pip install snscrape"
   ]
  },
  {
   "cell_type": "code",
   "execution_count": null,
   "metadata": {},
   "outputs": [],
   "source": [
    "import pandas as pd\n",
    "import numpy as np\n",
    "import snscrape.modules.twitter as sntwitter\n",
    "import re\n"
   ]
  },
  {
   "cell_type": "markdown",
   "metadata": {},
   "source": [
    "#### Query"
   ]
  },
  {
   "cell_type": "code",
   "execution_count": null,
   "metadata": {},
   "outputs": [],
   "source": [
    "# Get All Covid Sentiment Data from January 1st, 2020 until November 1st, 2022\n",
    "query = \"covid since:2020-01-01 until:2022-11-01 lang:id\"\n",
    "limit = 2000 # limit 50k rows"
   ]
  },
  {
   "cell_type": "code",
   "execution_count": null,
   "metadata": {},
   "outputs": [],
   "source": [
    "tweets = []\n",
    "\n",
    "for tweet in sntwitter.TwitterSearchScraper(query).get_items():\n",
    "    if len(tweets) == limit:\n",
    "        break\n",
    "    else:\n",
    "        tweets.append([\n",
    "            tweet.date,\n",
    "            tweet.username,\n",
    "            tweet.content\n",
    "        ])\n",
    "\n",
    "filename = 'tweets_covid_dataset_2k_raw_noindex.csv'\n",
    "tweets_df = pd.DataFrame(tweets, columns=['Tanggal', 'Username', 'Text'])\n",
    "tweets_df.to_csv(filename, index=False)\n",
    "print('Scraping has completed!')"
   ]
  },
  {
   "cell_type": "markdown",
   "metadata": {},
   "source": [
    "## **2. Wrangling Data** (Preprocessing)"
   ]
  },
  {
   "cell_type": "code",
   "execution_count": null,
   "metadata": {},
   "outputs": [],
   "source": [
    "%pip install tweet-preprocessor\n",
    "%pip install textblob\n",
    "%pip install wordcloud\n",
    "%pip install nltk"
   ]
  },
  {
   "cell_type": "code",
   "execution_count": null,
   "metadata": {},
   "outputs": [],
   "source": [
    "import preprocessor as preproc\n",
    "from textblob import TextBlob\n",
    "from nltk.stem import PorterStemmer\n",
    "from nltk.tokenize import word_tokenize\n",
    "import csv"
   ]
  },
  {
   "cell_type": "code",
   "execution_count": 101,
   "metadata": {},
   "outputs": [],
   "source": [
    "# get data from dataset\n",
    "data = pd.read_csv('https://raw.githubusercontent.com/hzlnqodrey/projek-akhir-prak-ds-sentimen-analisis-twitter-covid19-nlp-bayes/main/tweets_covid_dataset_2k_raw_noindex.csv')"
   ]
  },
  {
   "cell_type": "code",
   "execution_count": 102,
   "metadata": {},
   "outputs": [
    {
     "name": "stdout",
     "output_type": "stream",
     "text": [
      "<class 'pandas.core.frame.DataFrame'>\n",
      "RangeIndex: 2000 entries, 0 to 1999\n",
      "Data columns (total 3 columns):\n",
      " #   Column    Non-Null Count  Dtype \n",
      "---  ------    --------------  ----- \n",
      " 0   Tanggal   2000 non-null   object\n",
      " 1   Username  2000 non-null   object\n",
      " 2   Text      2000 non-null   object\n",
      "dtypes: object(3)\n",
      "memory usage: 47.0+ KB\n"
     ]
    }
   ],
   "source": [
    "data.info()"
   ]
  },
  {
   "cell_type": "code",
   "execution_count": 103,
   "metadata": {},
   "outputs": [
    {
     "data": {
      "text/html": [
       "<div>\n",
       "<style scoped>\n",
       "    .dataframe tbody tr th:only-of-type {\n",
       "        vertical-align: middle;\n",
       "    }\n",
       "\n",
       "    .dataframe tbody tr th {\n",
       "        vertical-align: top;\n",
       "    }\n",
       "\n",
       "    .dataframe thead th {\n",
       "        text-align: right;\n",
       "    }\n",
       "</style>\n",
       "<table border=\"1\" class=\"dataframe\">\n",
       "  <thead>\n",
       "    <tr style=\"text-align: right;\">\n",
       "      <th></th>\n",
       "      <th>Tanggal</th>\n",
       "      <th>Username</th>\n",
       "      <th>Text</th>\n",
       "    </tr>\n",
       "  </thead>\n",
       "  <tbody>\n",
       "    <tr>\n",
       "      <th>521</th>\n",
       "      <td>2022-10-31 14:05:38+00:00</td>\n",
       "      <td>_Kaumhalu</td>\n",
       "      <td>@dayatpiliang 2020 karena gabut covid+gak ada temen cerita</td>\n",
       "    </tr>\n",
       "    <tr>\n",
       "      <th>709</th>\n",
       "      <td>2022-10-31 12:30:37+00:00</td>\n",
       "      <td>aiyengood</td>\n",
       "      <td>I vote #straykids    for Worldwide Fan's Choice Top 10 #MAMAVOTE\\n\\nbtw my dinner prepared by my mom. kena covid ni perut jd kecik ke cemana? nak perabih ni amek masa sejam. 🥲 https://t.co/ibMjxwphiI</td>\n",
       "    </tr>\n",
       "    <tr>\n",
       "      <th>396</th>\n",
       "      <td>2022-10-31 15:04:17+00:00</td>\n",
       "      <td>KIKOTAPASANDO1</td>\n",
       "      <td>RESUMEN COVID-19 PA SIMAN DI 31 DI OKTOBER 2022 https://t.co/7qUf5YKWqr</td>\n",
       "    </tr>\n",
       "    <tr>\n",
       "      <th>992</th>\n",
       "      <td>2022-10-31 10:33:33+00:00</td>\n",
       "      <td>tigisatnihs</td>\n",
       "      <td>@zahwaisl Samaaaakkk.\\nAku ngeh bgt tu pas jaman2 orang ga percaya covid dan saling fitnah nakes lah, pemerenta lah, elit global lah. Baru fitnah virus loh itu yg keliatan aja engga, belum dajjal yg bisa ngidupin orang mati.</td>\n",
       "    </tr>\n",
       "    <tr>\n",
       "      <th>912</th>\n",
       "      <td>2022-10-31 11:03:39+00:00</td>\n",
       "      <td>GreenandGold29</td>\n",
       "      <td>@MwendeCharles Time ya covid aliingia mitini</td>\n",
       "    </tr>\n",
       "  </tbody>\n",
       "</table>\n",
       "</div>"
      ],
      "text/plain": [
       "                       Tanggal        Username                                                                                                                                                                                                                              Text\n",
       "521  2022-10-31 14:05:38+00:00       _Kaumhalu                                                                                                                                                                        @dayatpiliang 2020 karena gabut covid+gak ada temen cerita\n",
       "709  2022-10-31 12:30:37+00:00       aiyengood                           I vote #straykids    for Worldwide Fan's Choice Top 10 #MAMAVOTE\\n\\nbtw my dinner prepared by my mom. kena covid ni perut jd kecik ke cemana? nak perabih ni amek masa sejam. 🥲 https://t.co/ibMjxwphiI\n",
       "396  2022-10-31 15:04:17+00:00  KIKOTAPASANDO1                                                                                                                                                           RESUMEN COVID-19 PA SIMAN DI 31 DI OKTOBER 2022 https://t.co/7qUf5YKWqr\n",
       "992  2022-10-31 10:33:33+00:00     tigisatnihs  @zahwaisl Samaaaakkk.\\nAku ngeh bgt tu pas jaman2 orang ga percaya covid dan saling fitnah nakes lah, pemerenta lah, elit global lah. Baru fitnah virus loh itu yg keliatan aja engga, belum dajjal yg bisa ngidupin orang mati.\n",
       "912  2022-10-31 11:03:39+00:00  GreenandGold29                                                                                                                                                                                      @MwendeCharles Time ya covid aliingia mitini"
      ]
     },
     "execution_count": 103,
     "metadata": {},
     "output_type": "execute_result"
    }
   ],
   "source": [
    "data.sample(n=5)"
   ]
  },
  {
   "cell_type": "markdown",
   "metadata": {},
   "source": [
    "##### 1. Case Folding"
   ]
  },
  {
   "cell_type": "code",
   "execution_count": 104,
   "metadata": {},
   "outputs": [],
   "source": [
    "data['Text'] = data['Text'].str.lower()"
   ]
  },
  {
   "cell_type": "code",
   "execution_count": 105,
   "metadata": {},
   "outputs": [
    {
     "name": "stdout",
     "output_type": "stream",
     "text": [
      "Case Folding Result : \n",
      "\n"
     ]
    },
    {
     "data": {
      "text/html": [
       "<div>\n",
       "<style scoped>\n",
       "    .dataframe tbody tr th:only-of-type {\n",
       "        vertical-align: middle;\n",
       "    }\n",
       "\n",
       "    .dataframe tbody tr th {\n",
       "        vertical-align: top;\n",
       "    }\n",
       "\n",
       "    .dataframe thead th {\n",
       "        text-align: right;\n",
       "    }\n",
       "</style>\n",
       "<table border=\"1\" class=\"dataframe\">\n",
       "  <thead>\n",
       "    <tr style=\"text-align: right;\">\n",
       "      <th></th>\n",
       "      <th>Tanggal</th>\n",
       "      <th>Username</th>\n",
       "      <th>Text</th>\n",
       "    </tr>\n",
       "  </thead>\n",
       "  <tbody>\n",
       "    <tr>\n",
       "      <th>1386</th>\n",
       "      <td>2022-10-31 07:53:08+00:00</td>\n",
       "      <td>yeeunohyeeun</td>\n",
       "      <td>@foxgibbang benerrr jadi serba salah ㅠㅠ serem bgt deh ya. tahun2 sblmnya banyak yg meninggal krn covid. thn ini ya yg rusuh, tragedi tak terduga, trs musibah aduuh 😭😭😭</td>\n",
       "    </tr>\n",
       "    <tr>\n",
       "      <th>1988</th>\n",
       "      <td>2022-10-31 04:17:12+00:00</td>\n",
       "      <td>mbahndi</td>\n",
       "      <td>@ardi_tama1 gila ya tuh kerumunan...ke mana satgas covid...</td>\n",
       "    </tr>\n",
       "    <tr>\n",
       "      <th>741</th>\n",
       "      <td>2022-10-31 12:16:46+00:00</td>\n",
       "      <td>Veteran_covid</td>\n",
       "      <td>@yattie2022 @sean1724501685 @kompastv itu tokoh di channel youtube woko, calon mantune pak galino, koncone pak gendut, pacare tiwok.</td>\n",
       "    </tr>\n",
       "    <tr>\n",
       "      <th>1531</th>\n",
       "      <td>2022-10-31 07:07:07+00:00</td>\n",
       "      <td>harandist_</td>\n",
       "      <td>@mewmiawmew @kegblgnunfaedh saudaraku harusnya brgkt 2020 krn kena covid akhirnya kegeser sampai skrg blm berangkat\\n\\nsampai dia umroh awal tahun lalu\\nentah kegeser berapa tahun</td>\n",
       "    </tr>\n",
       "    <tr>\n",
       "      <th>382</th>\n",
       "      <td>2022-10-31 15:12:05+00:00</td>\n",
       "      <td>HensemAdam1</td>\n",
       "      <td>@izzywafi ingatkan positive covid test result</td>\n",
       "    </tr>\n",
       "  </tbody>\n",
       "</table>\n",
       "</div>"
      ],
      "text/plain": [
       "                        Tanggal       Username                                                                                                                                                                                 Text\n",
       "1386  2022-10-31 07:53:08+00:00   yeeunohyeeun              @foxgibbang benerrr jadi serba salah ㅠㅠ serem bgt deh ya. tahun2 sblmnya banyak yg meninggal krn covid. thn ini ya yg rusuh, tragedi tak terduga, trs musibah aduuh 😭😭😭\n",
       "1988  2022-10-31 04:17:12+00:00        mbahndi                                                                                                                          @ardi_tama1 gila ya tuh kerumunan...ke mana satgas covid...\n",
       "741   2022-10-31 12:16:46+00:00  Veteran_covid                                                 @yattie2022 @sean1724501685 @kompastv itu tokoh di channel youtube woko, calon mantune pak galino, koncone pak gendut, pacare tiwok.\n",
       "1531  2022-10-31 07:07:07+00:00     harandist_  @mewmiawmew @kegblgnunfaedh saudaraku harusnya brgkt 2020 krn kena covid akhirnya kegeser sampai skrg blm berangkat\\n\\nsampai dia umroh awal tahun lalu\\nentah kegeser berapa tahun\n",
       "382   2022-10-31 15:12:05+00:00    HensemAdam1                                                                                                                                        @izzywafi ingatkan positive covid test result"
      ]
     },
     "execution_count": 105,
     "metadata": {},
     "output_type": "execute_result"
    }
   ],
   "source": [
    "print('Case Folding Result : \\n')\n",
    "data.sample(n=5)"
   ]
  },
  {
   "cell_type": "code",
   "execution_count": 106,
   "metadata": {},
   "outputs": [
    {
     "data": {
      "text/plain": [
       "Tanggal     0\n",
       "Username    0\n",
       "Text        0\n",
       "dtype: int64"
      ]
     },
     "execution_count": 106,
     "metadata": {},
     "output_type": "execute_result"
    }
   ],
   "source": [
    "data.isnull().sum()"
   ]
  },
  {
   "cell_type": "markdown",
   "metadata": {},
   "source": [
    "##### 2. Cleaning"
   ]
  },
  {
   "cell_type": "code",
   "execution_count": 107,
   "metadata": {},
   "outputs": [],
   "source": [
    "def preprocessing_data(x):\n",
    "    return preproc.clean(x)\n",
    "\n",
    "data['Text'] = data['Text'].apply(preprocessing_data)\n"
   ]
  },
  {
   "cell_type": "code",
   "execution_count": 111,
   "metadata": {},
   "outputs": [
    {
     "name": "stdout",
     "output_type": "stream",
     "text": [
      "Cleaning Result : \n",
      "\n"
     ]
    },
    {
     "data": {
      "text/html": [
       "<div>\n",
       "<style scoped>\n",
       "    .dataframe tbody tr th:only-of-type {\n",
       "        vertical-align: middle;\n",
       "    }\n",
       "\n",
       "    .dataframe tbody tr th {\n",
       "        vertical-align: top;\n",
       "    }\n",
       "\n",
       "    .dataframe thead th {\n",
       "        text-align: right;\n",
       "    }\n",
       "</style>\n",
       "<table border=\"1\" class=\"dataframe\">\n",
       "  <thead>\n",
       "    <tr style=\"text-align: right;\">\n",
       "      <th></th>\n",
       "      <th>Tanggal</th>\n",
       "      <th>Username</th>\n",
       "      <th>Text</th>\n",
       "    </tr>\n",
       "  </thead>\n",
       "  <tbody>\n",
       "    <tr>\n",
       "      <th>444</th>\n",
       "      <td>2022-10-31 14:42:54+00:00</td>\n",
       "      <td>atiyahznddin</td>\n",
       "      <td>terlalu banyak sijil online yang aku lupa link dia, anjay covid skang ni nak cari balik pun taktahu nak search apa</td>\n",
       "    </tr>\n",
       "    <tr>\n",
       "      <th>318</th>\n",
       "      <td>2022-10-31 15:52:48+00:00</td>\n",
       "      <td>ainajaena</td>\n",
       "      <td>nak tanya, rakyat malaysia tahukan yang sekarang da boleh bukak mask? sebab every where i go, mostly orang sekeliling i still pakai mask. bagus bagus, nampaknya rakyat kita masih aware dengan wabak covid-19. nah bunga untuk malaysians</td>\n",
       "    </tr>\n",
       "    <tr>\n",
       "      <th>240</th>\n",
       "      <td>2022-10-31 16:38:13+00:00</td>\n",
       "      <td>shafkim95</td>\n",
       "      <td>kwn ajak keje part time kat satu mall ni mcm bagi free sample barang. today until khamis. tapi tiba2 tak jadi sbb ada staff kena covid. takde rezeki</td>\n",
       "    </tr>\n",
       "    <tr>\n",
       "      <th>1219</th>\n",
       "      <td>2022-10-31 09:06:36+00:00</td>\n",
       "      <td>DomiThaliaPutri</td>\n",
       "      <td>gileee replyan dokternya banyak banget konstipation belieber ckckckmulai dr yg ga percaya covid dan yg percaya bahwa vaksin itu isinya aneh2 bumi itu bentuknya apa ya?</td>\n",
       "    </tr>\n",
       "    <tr>\n",
       "      <th>74</th>\n",
       "      <td>2022-10-31 22:33:37+00:00</td>\n",
       "      <td>smartfm_medan</td>\n",
       "      <td>kementerian kesehatan (kemenkes) menargetkan implementasi platform saling pengakuan sertifikat kesehatan digital di negara-negara g20 terjadi pada kuartal i .kesepakatan ini memungkinkan bukti vaksinasi covid-19 digital mudah terverifikasi di negara-negara g20.semua</td>\n",
       "    </tr>\n",
       "  </tbody>\n",
       "</table>\n",
       "</div>"
      ],
      "text/plain": [
       "                        Tanggal         Username                                                                                                                                                                                                                                                                        Text\n",
       "444   2022-10-31 14:42:54+00:00     atiyahznddin                                                                                                                                                          terlalu banyak sijil online yang aku lupa link dia, anjay covid skang ni nak cari balik pun taktahu nak search apa\n",
       "318   2022-10-31 15:52:48+00:00        ainajaena                                  nak tanya, rakyat malaysia tahukan yang sekarang da boleh bukak mask? sebab every where i go, mostly orang sekeliling i still pakai mask. bagus bagus, nampaknya rakyat kita masih aware dengan wabak covid-19. nah bunga untuk malaysians\n",
       "240   2022-10-31 16:38:13+00:00        shafkim95                                                                                                                        kwn ajak keje part time kat satu mall ni mcm bagi free sample barang. today until khamis. tapi tiba2 tak jadi sbb ada staff kena covid. takde rezeki\n",
       "1219  2022-10-31 09:06:36+00:00  DomiThaliaPutri                                                                                                     gileee replyan dokternya banyak banget konstipation belieber ckckckmulai dr yg ga percaya covid dan yg percaya bahwa vaksin itu isinya aneh2 bumi itu bentuknya apa ya?\n",
       "74    2022-10-31 22:33:37+00:00    smartfm_medan  kementerian kesehatan (kemenkes) menargetkan implementasi platform saling pengakuan sertifikat kesehatan digital di negara-negara g20 terjadi pada kuartal i .kesepakatan ini memungkinkan bukti vaksinasi covid-19 digital mudah terverifikasi di negara-negara g20.semua"
      ]
     },
     "execution_count": 111,
     "metadata": {},
     "output_type": "execute_result"
    }
   ],
   "source": [
    "print('Cleaning Result : \\n')\n",
    "data.sample(n=5)"
   ]
  },
  {
   "cell_type": "code",
   "execution_count": 112,
   "metadata": {},
   "outputs": [
    {
     "data": {
      "text/plain": [
       "0                                 dulu di barat upn ada warung kayuh bambai. bumbu habangnya sungguh banjar banar. semenjak tahun ke covid mereka tutup. padahal itu warung yang sangat mengobati kerinduan sama masakan banjar. nasi kuning dan soto banjarnya juara sekali\n",
       "1                                                                                                                                                                                                                             segala sakit yg disalahin vaksin covid. lieur.\n",
       "2    bukankah kamu dulu bagian rezim?, namun setelah terdepak dan sakit hati karena rezekinya hilang maka jadi sok kritis? dulu mengkritisi vaksin covid, namun saat divaksin pamer di medsos. ucapanmu tidak konsisten bro...semua karena sakit hati atas hilangnya rezeki.\n",
       "3                                                                                                                                                                                   \"aku kan ganti lama dulu. sebelum covid menyerang. sdh lama. beda tahun y beda hrga mas\"\n",
       "4                                                                                                                                                                                                                     trus masku kena covid lagi kek yah udah endemi masi ae\n",
       "Name: Text, dtype: object"
      ]
     },
     "execution_count": 112,
     "metadata": {},
     "output_type": "execute_result"
    }
   ],
   "source": [
    "data['Text'].head(5)"
   ]
  },
  {
   "cell_type": "code",
   "execution_count": null,
   "metadata": {},
   "outputs": [],
   "source": [
    "# "
   ]
  },
  {
   "cell_type": "markdown",
   "metadata": {},
   "source": [
    "##### 3. Tokenizing"
   ]
  },
  {
   "cell_type": "code",
   "execution_count": null,
   "metadata": {},
   "outputs": [],
   "source": [
    "def tokenize_data(x):\n",
    "    return word_tokenize(x)\n",
    "\n",
    "data['Text'] = data['Text'].apply(tokenize_data)"
   ]
  },
  {
   "cell_type": "code",
   "execution_count": null,
   "metadata": {},
   "outputs": [],
   "source": [
    "print('Tokenizing Result : \\n')\n",
    "data.sample(n=5)"
   ]
  },
  {
   "cell_type": "markdown",
   "metadata": {},
   "source": [
    "##### 4. Filtering"
   ]
  },
  {
   "cell_type": "markdown",
   "metadata": {},
   "source": [
    "## **2.1 Stemming**"
   ]
  },
  {
   "cell_type": "markdown",
   "metadata": {},
   "source": [
    "## **2.2 Menejermah Tweet Clean hasil Preproc ke Bahasa Inggris** (Translating)"
   ]
  },
  {
   "cell_type": "markdown",
   "metadata": {},
   "source": [
    "## **3. Modelling Data** (Modeling and Training)"
   ]
  },
  {
   "cell_type": "markdown",
   "metadata": {},
   "source": [
    "## **4. Klasifikasi Data dengan Naive Bayes** (Classification)"
   ]
  }
 ],
 "metadata": {
  "kernelspec": {
   "display_name": "Python 3.8.0 64-bit",
   "language": "python",
   "name": "python3"
  },
  "language_info": {
   "codemirror_mode": {
    "name": "ipython",
    "version": 3
   },
   "file_extension": ".py",
   "mimetype": "text/x-python",
   "name": "python",
   "nbconvert_exporter": "python",
   "pygments_lexer": "ipython3",
   "version": "3.8.0"
  },
  "orig_nbformat": 4,
  "vscode": {
   "interpreter": {
    "hash": "898a950986d43450680efc03f9903704e020e6e6b23d64c62a66308a081cc53c"
   }
  }
 },
 "nbformat": 4,
 "nbformat_minor": 2
}
