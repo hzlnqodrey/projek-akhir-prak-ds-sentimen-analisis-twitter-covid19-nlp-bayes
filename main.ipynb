{
 "cells": [
  {
   "cell_type": "markdown",
   "metadata": {},
   "source": [
    "# **Projek Akhir Praktikum Data Science**\n",
    "\n",
    "> Analisis Sentimen Mengenai Vaksin COVID-19 Di Indonesia Menggunakan Metode Naive Bayes Classifier dan NLP Pada Sosial Media Twitter\n",
    "\n",
    "**Oleh Kelompok 2 :**\n",
    "1. Hazlan Muhammad Qodri (123190080) @hzlnqodrey\n",
    "2. Elisia Dwi Rahayu (123190062) @elisiadwirahayu\n",
    "3. Shania Septika Inayasari (123190055) @shaniainayasari\n",
    "\n",
    "**Penjelasan Projek :**\n",
    "\n",
    "Adapun pada penelitian menekankan kepada sentimen masyarakat terhadap mengenai vaksin COVID-19. Proses analisisnya akan dilakukan berdasarkan tweet yang menyertakan tagar vaksin dan pencarian di twitter dengan keyword vaksin covid 19."
   ]
  },
  {
   "cell_type": "markdown",
   "metadata": {},
   "source": [
    "## **1. Scraping Data from Twitter**"
   ]
  },
  {
   "cell_type": "code",
   "execution_count": null,
   "metadata": {},
   "outputs": [],
   "source": [
    "%pip install snscrape"
   ]
  },
  {
   "cell_type": "code",
   "execution_count": null,
   "metadata": {},
   "outputs": [],
   "source": [
    "import pandas as pd\n",
    "import numpy as np\n",
    "import snscrape.modules.twitter as sntwitter\n",
    "import re\n"
   ]
  },
  {
   "cell_type": "markdown",
   "metadata": {},
   "source": [
    "#### Query"
   ]
  },
  {
   "cell_type": "code",
   "execution_count": null,
   "metadata": {},
   "outputs": [],
   "source": [
    "# Get All Covid Sentiment Data from January 1st, 2020 until November 1st, 2022\n",
    "query = \"covid since:2020-01-01 until:2022-11-01 lang:id\"\n",
    "limit = 2000 # limit 50k rows"
   ]
  },
  {
   "cell_type": "code",
   "execution_count": null,
   "metadata": {},
   "outputs": [],
   "source": [
    "tweets = []\n",
    "\n",
    "for tweet in sntwitter.TwitterSearchScraper(query).get_items():\n",
    "    if len(tweets) == limit:\n",
    "        break\n",
    "    else:\n",
    "        tweets.append([\n",
    "            tweet.date,\n",
    "            tweet.username,\n",
    "            tweet.content\n",
    "        ])\n",
    "\n",
    "filename = 'tweets_covid_dataset_2k_raw_noindex.csv'\n",
    "tweets_df = pd.DataFrame(tweets, columns=['Tanggal', 'Username', 'Text'])\n",
    "tweets_df.to_csv(filename, index=False)\n",
    "print('Scraping has completed!')"
   ]
  },
  {
   "cell_type": "markdown",
   "metadata": {},
   "source": [
    "## **2. Wrangling Data** (Preprocessing)"
   ]
  },
  {
   "cell_type": "code",
   "execution_count": null,
   "metadata": {},
   "outputs": [],
   "source": [
    "%pip install tweet-preprocessor\n",
    "%pip install textblob\n",
    "%pip install wordcloud\n",
    "%pip install nltk"
   ]
  },
  {
   "cell_type": "code",
   "execution_count": null,
   "metadata": {},
   "outputs": [],
   "source": [
    "import preprocessor as preproc\n",
    "from textblob import TextBlob\n",
    "from nltk.stem import PorterStemmer\n",
    "from nltk.tokenize import word_tokenize\n",
    "import csv\n",
    "import string"
   ]
  },
  {
   "cell_type": "code",
   "execution_count": 303,
   "metadata": {},
   "outputs": [],
   "source": [
    "# get data from dataset\n",
    "data = pd.read_csv('https://raw.githubusercontent.com/hzlnqodrey/projek-akhir-prak-ds-sentimen-analisis-twitter-covid19-nlp-bayes/main/tweets_covid_dataset_2k_raw_noindex.csv')"
   ]
  },
  {
   "cell_type": "code",
   "execution_count": null,
   "metadata": {},
   "outputs": [],
   "source": [
    "data.info()"
   ]
  },
  {
   "cell_type": "code",
   "execution_count": null,
   "metadata": {},
   "outputs": [],
   "source": [
    "data.sample(n=5)"
   ]
  },
  {
   "cell_type": "markdown",
   "metadata": {},
   "source": [
    "##### 1. Case Folding"
   ]
  },
  {
   "cell_type": "code",
   "execution_count": 304,
   "metadata": {},
   "outputs": [],
   "source": [
    "data['Text'] = data['Text'].str.lower()"
   ]
  },
  {
   "cell_type": "code",
   "execution_count": null,
   "metadata": {},
   "outputs": [],
   "source": [
    "print('Case Folding Result : \\n')\n",
    "data.sample(n=5)"
   ]
  },
  {
   "cell_type": "code",
   "execution_count": null,
   "metadata": {},
   "outputs": [],
   "source": [
    "data.isnull().sum()"
   ]
  },
  {
   "cell_type": "markdown",
   "metadata": {},
   "source": [
    "##### 2. Cleaning"
   ]
  },
  {
   "cell_type": "code",
   "execution_count": 305,
   "metadata": {},
   "outputs": [],
   "source": [
    "# cleaning overall\n",
    "def preprocessing_data(x):\n",
    "    return preproc.clean(x)\n",
    "\n",
    "data['Text'] = data['Text'].apply(preprocessing_data)\n"
   ]
  },
  {
   "cell_type": "code",
   "execution_count": null,
   "metadata": {},
   "outputs": [],
   "source": [
    "print('Cleaning Result : \\n')\n",
    "data.sample(n=5)"
   ]
  },
  {
   "cell_type": "code",
   "execution_count": null,
   "metadata": {},
   "outputs": [],
   "source": [
    "data['Text'].head(5)"
   ]
  },
  {
   "cell_type": "code",
   "execution_count": 306,
   "metadata": {},
   "outputs": [
    {
     "name": "stdout",
     "output_type": "stream",
     "text": [
      "Cleaning Result : \n",
      "\n"
     ]
    },
    {
     "data": {
      "text/html": [
       "<div>\n",
       "<style scoped>\n",
       "    .dataframe tbody tr th:only-of-type {\n",
       "        vertical-align: middle;\n",
       "    }\n",
       "\n",
       "    .dataframe tbody tr th {\n",
       "        vertical-align: top;\n",
       "    }\n",
       "\n",
       "    .dataframe thead th {\n",
       "        text-align: right;\n",
       "    }\n",
       "</style>\n",
       "<table border=\"1\" class=\"dataframe\">\n",
       "  <thead>\n",
       "    <tr style=\"text-align: right;\">\n",
       "      <th></th>\n",
       "      <th>Tanggal</th>\n",
       "      <th>Username</th>\n",
       "      <th>Text</th>\n",
       "    </tr>\n",
       "  </thead>\n",
       "  <tbody>\n",
       "    <tr>\n",
       "      <th>771</th>\n",
       "      <td>2022-10-31 12:03:49+00:00</td>\n",
       "      <td>miff_sucii</td>\n",
       "      <td>ya betul turun jumlah per kapita juga turun banyak yg md korban covid</td>\n",
       "    </tr>\n",
       "    <tr>\n",
       "      <th>514</th>\n",
       "      <td>2022-10-31 14:09:37+00:00</td>\n",
       "      <td>Kochikecil</td>\n",
       "      <td>hukum mati tidak bisa berantas korupsi</td>\n",
       "    </tr>\n",
       "    <tr>\n",
       "      <th>1369</th>\n",
       "      <td>2022-10-31 08:01:54+00:00</td>\n",
       "      <td>jia_shahril</td>\n",
       "      <td>ye wehh samaa aku sebelum covid memng dah selalu lupa tpi lepas covid lagilah teruk penyakit lupa aku</td>\n",
       "    </tr>\n",
       "    <tr>\n",
       "      <th>1851</th>\n",
       "      <td>2022-10-31 05:07:12+00:00</td>\n",
       "      <td>BuletinTV3</td>\n",
       "      <td>covid-19 | pemakaian pelitup muka kekal secara sukarela tetapi sangat digalakkan di kawasan tertutup dan sesak tegas menteri kesihatan khairy jamaluddin video penuh:</td>\n",
       "    </tr>\n",
       "    <tr>\n",
       "      <th>580</th>\n",
       "      <td>2022-10-31 13:30:15+00:00</td>\n",
       "      <td>AyoGerakBareng</td>\n",
       "      <td>ada begitu banyak yang berubah ketika pandemi covid-19 melanda dunia mulai dari perubahan sosial interaksi publik hingga kegiatan-kegiatan keagamaan termasuk peribadatan umat islam virus corona ramadhan dan perubahan tradisi selama ramadhan</td>\n",
       "    </tr>\n",
       "  </tbody>\n",
       "</table>\n",
       "</div>"
      ],
      "text/plain": [
       "                        Tanggal        Username                                                                                                                                                                                                                                              Text\n",
       "771   2022-10-31 12:03:49+00:00      miff_sucii                                                                                                                                                                             ya betul turun jumlah per kapita juga turun banyak yg md korban covid\n",
       "514   2022-10-31 14:09:37+00:00      Kochikecil                                                                                                                                                                                                            hukum mati tidak bisa berantas korupsi\n",
       "1369  2022-10-31 08:01:54+00:00     jia_shahril                                                                                                                                             ye wehh samaa aku sebelum covid memng dah selalu lupa tpi lepas covid lagilah teruk penyakit lupa aku\n",
       "1851  2022-10-31 05:07:12+00:00      BuletinTV3                                                                             covid-19 | pemakaian pelitup muka kekal secara sukarela tetapi sangat digalakkan di kawasan tertutup dan sesak tegas menteri kesihatan khairy jamaluddin video penuh:\n",
       "580   2022-10-31 13:30:15+00:00  AyoGerakBareng  ada begitu banyak yang berubah ketika pandemi covid-19 melanda dunia mulai dari perubahan sosial interaksi publik hingga kegiatan-kegiatan keagamaan termasuk peribadatan umat islam virus corona ramadhan dan perubahan tradisi selama ramadhan"
      ]
     },
     "execution_count": 306,
     "metadata": {},
     "output_type": "execute_result"
    }
   ],
   "source": [
    "# cleaning remove_comments_special\n",
    "def remove_comments_special(text):\n",
    "    # remove tab, new line, and back slice\n",
    "    text = text.replace('\\\\t', \" \").replace('\\\\n', \" \").replace(\n",
    "        '\\\\u', \" \").replace('\\\\', \" \").replace('.', \" \")\n",
    "    # remove non ASCII (emoticon, chinese word, .etc)\n",
    "    text = text.encode('ascii', 'replace').decode('ascii')\n",
    "    # remove mention, link, hashtag\n",
    "    text = ' '.join(\n",
    "        re.sub(\"([@#][A-Za-z0-9]+)|(\\w+:\\/\\/\\S+)\", \" \", text).split())\n",
    "    # remove ascii decoded\n",
    "    text = ' '.join(\n",
    "        re.sub(\"amp; \", \" \", text).split())\n",
    "    text = ' '.join(\n",
    "        re.sub(\"lt; \", \" \", text).split())\n",
    "    text = ' '.join(\n",
    "        re.sub(\"gt; \", \" \", text).split())\n",
    "    return text\n",
    "\n",
    "data['Text'] = data['Text'].apply(remove_comments_special)\n",
    "\n",
    "# remove symbol\n",
    "def remove_symbol(text):\n",
    "    text = ''.join(\n",
    "        re.sub(r\"[\\!\\@\\#\\$\\%\\^\\&\\*\\(\\)\\?\\,\\\"\\|\\:]+\", \"\", text)\n",
    "    )\n",
    "    return text\n",
    "\n",
    "data['Text'] = data['Text'].apply(remove_symbol)\n",
    "\n",
    "# remove punctuation\n",
    "def remove_punctuation(text):\n",
    "    return text.translate(str.maketrans(\"\", \"\", string.punctuation))\n",
    "\n",
    "print('Cleaning Result : \\n')\n",
    "data.sample(n=5)"
   ]
  },
  {
   "cell_type": "code",
   "execution_count": null,
   "metadata": {},
   "outputs": [],
   "source": [
    "data.head(50)"
   ]
  },
  {
   "cell_type": "markdown",
   "metadata": {},
   "source": [
    "##### 3. Tokenizing"
   ]
  },
  {
   "cell_type": "code",
   "execution_count": 307,
   "metadata": {},
   "outputs": [],
   "source": [
    "def tokenize_data(text):\n",
    "    return word_tokenize(text)\n",
    "\n",
    "data['Text_Clean'] = data['Text'].apply(tokenize_data)"
   ]
  },
  {
   "cell_type": "code",
   "execution_count": 308,
   "metadata": {},
   "outputs": [
    {
     "name": "stdout",
     "output_type": "stream",
     "text": [
      "Tokenizing Result : \n",
      "\n"
     ]
    },
    {
     "data": {
      "text/html": [
       "<div>\n",
       "<style scoped>\n",
       "    .dataframe tbody tr th:only-of-type {\n",
       "        vertical-align: middle;\n",
       "    }\n",
       "\n",
       "    .dataframe tbody tr th {\n",
       "        vertical-align: top;\n",
       "    }\n",
       "\n",
       "    .dataframe thead th {\n",
       "        text-align: right;\n",
       "    }\n",
       "</style>\n",
       "<table border=\"1\" class=\"dataframe\">\n",
       "  <thead>\n",
       "    <tr style=\"text-align: right;\">\n",
       "      <th></th>\n",
       "      <th>Tanggal</th>\n",
       "      <th>Username</th>\n",
       "      <th>Text</th>\n",
       "      <th>Text_Clean</th>\n",
       "    </tr>\n",
       "  </thead>\n",
       "  <tbody>\n",
       "    <tr>\n",
       "      <th>302</th>\n",
       "      <td>2022-10-31 16:04:50+00:00</td>\n",
       "      <td>estiyunho_</td>\n",
       "      <td>hahaha pindaaaah tapi kapan lalu masih kesana kok sebelum covid pas hari raya di sana helm masih sering ilang kak</td>\n",
       "      <td>[hahaha, pindaaaah, tapi, kapan, lalu, masih, kesana, kok, sebelum, covid, pas, hari, raya, di, sana, helm, masih, sering, ilang, kak]</td>\n",
       "    </tr>\n",
       "    <tr>\n",
       "      <th>43</th>\n",
       "      <td>2022-10-31 23:19:40+00:00</td>\n",
       "      <td>pemudalincah</td>\n",
       "      <td>ini di kantor pada rame covid lg tbtb org kena</td>\n",
       "      <td>[ini, di, kantor, pada, rame, covid, lg, tbtb, org, kena]</td>\n",
       "    </tr>\n",
       "    <tr>\n",
       "      <th>373</th>\n",
       "      <td>2022-10-31 15:18:11+00:00</td>\n",
       "      <td>br02vlogs</td>\n",
       "      <td>mod g china me new virus brackout hua hn jo covid se gunah ghatak hn</td>\n",
       "      <td>[mod, g, china, me, new, virus, brackout, hua, hn, jo, covid, se, gunah, ghatak, hn]</td>\n",
       "    </tr>\n",
       "    <tr>\n",
       "      <th>1054</th>\n",
       "      <td>2022-10-31 10:09:32+00:00</td>\n",
       "      <td>Mr_Hendra_H</td>\n",
       "      <td>video sandiwara merebaknya covid di wuhan semakin menguatkan sinyalemen bapak bahwa pemilu pilpres akan ditunda mobilitas warga akan semakin dikekang dan jokowi akan melenggang mulus tiga periode</td>\n",
       "      <td>[video, sandiwara, merebaknya, covid, di, wuhan, semakin, menguatkan, sinyalemen, bapak, bahwa, pemilu, pilpres, akan, ditunda, mobilitas, warga, akan, semakin, dikekang, dan, jokowi, akan, melenggang, mulus, tiga, periode]</td>\n",
       "    </tr>\n",
       "    <tr>\n",
       "      <th>420</th>\n",
       "      <td>2022-10-31 14:52:57+00:00</td>\n",
       "      <td>atiqah_tykass</td>\n",
       "      <td>aku putus cinta cuti seminggu covid</td>\n",
       "      <td>[aku, putus, cinta, cuti, seminggu, covid]</td>\n",
       "    </tr>\n",
       "  </tbody>\n",
       "</table>\n",
       "</div>"
      ],
      "text/plain": [
       "                        Tanggal       Username                                                                                                                                                                                                 Text                                                                                                                                                                                                                       Text_Clean\n",
       "302   2022-10-31 16:04:50+00:00     estiyunho_                                                                                    hahaha pindaaaah tapi kapan lalu masih kesana kok sebelum covid pas hari raya di sana helm masih sering ilang kak                                                                                           [hahaha, pindaaaah, tapi, kapan, lalu, masih, kesana, kok, sebelum, covid, pas, hari, raya, di, sana, helm, masih, sering, ilang, kak]\n",
       "43    2022-10-31 23:19:40+00:00   pemudalincah                                                                                                                                                       ini di kantor pada rame covid lg tbtb org kena                                                                                                                                                                        [ini, di, kantor, pada, rame, covid, lg, tbtb, org, kena]\n",
       "373   2022-10-31 15:18:11+00:00      br02vlogs                                                                                                                                 mod g china me new virus brackout hua hn jo covid se gunah ghatak hn                                                                                                                                             [mod, g, china, me, new, virus, brackout, hua, hn, jo, covid, se, gunah, ghatak, hn]\n",
       "1054  2022-10-31 10:09:32+00:00    Mr_Hendra_H  video sandiwara merebaknya covid di wuhan semakin menguatkan sinyalemen bapak bahwa pemilu pilpres akan ditunda mobilitas warga akan semakin dikekang dan jokowi akan melenggang mulus tiga periode  [video, sandiwara, merebaknya, covid, di, wuhan, semakin, menguatkan, sinyalemen, bapak, bahwa, pemilu, pilpres, akan, ditunda, mobilitas, warga, akan, semakin, dikekang, dan, jokowi, akan, melenggang, mulus, tiga, periode]\n",
       "420   2022-10-31 14:52:57+00:00  atiqah_tykass                                                                                                                                                                  aku putus cinta cuti seminggu covid                                                                                                                                                                                       [aku, putus, cinta, cuti, seminggu, covid]"
      ]
     },
     "execution_count": 308,
     "metadata": {},
     "output_type": "execute_result"
    }
   ],
   "source": [
    "print('Tokenizing Result : \\n')\n",
    "data.sample(n=5)"
   ]
  },
  {
   "cell_type": "markdown",
   "metadata": {},
   "source": [
    "##### 4. Filtering"
   ]
  },
  {
   "cell_type": "code",
   "execution_count": 309,
   "metadata": {},
   "outputs": [
    {
     "data": {
      "text/html": [
       "<div>\n",
       "<style scoped>\n",
       "    .dataframe tbody tr th:only-of-type {\n",
       "        vertical-align: middle;\n",
       "    }\n",
       "\n",
       "    .dataframe tbody tr th {\n",
       "        vertical-align: top;\n",
       "    }\n",
       "\n",
       "    .dataframe thead th {\n",
       "        text-align: right;\n",
       "    }\n",
       "</style>\n",
       "<table border=\"1\" class=\"dataframe\">\n",
       "  <thead>\n",
       "    <tr style=\"text-align: right;\">\n",
       "      <th></th>\n",
       "      <th>Tanggal</th>\n",
       "      <th>Username</th>\n",
       "      <th>Text</th>\n",
       "      <th>Text_Clean</th>\n",
       "    </tr>\n",
       "  </thead>\n",
       "  <tbody>\n",
       "    <tr>\n",
       "      <th>0</th>\n",
       "      <td>2022-10-31 23:59:58+00:00</td>\n",
       "      <td>lordkuyang</td>\n",
       "      <td>dulu di barat upn ada warung kayuh bambai bumbu habangnya sungguh banjar banar semenjak tahun ke covid mereka tutup padahal itu warung yang sangat mengobati kerinduan sama masakan banjar nasi kuning dan soto banjarnya juara sekali</td>\n",
       "      <td>[dulu, di, barat, upn, ada, warung, kayuh, bambai, bumbu, habangnya, sungguh, banjar, banar, semenjak, tahun, ke, covid, mereka, tutup, padahal, itu, warung, yang, sangat, mengobati, kerinduan, sama, masakan, banjar, nasi, kuning, dan, soto, banjarnya, juara, sekali]</td>\n",
       "    </tr>\n",
       "    <tr>\n",
       "      <th>1</th>\n",
       "      <td>2022-10-31 23:58:49+00:00</td>\n",
       "      <td>s_h_y_l_l_a</td>\n",
       "      <td>segala sakit yg disalahin vaksin covid lieur</td>\n",
       "      <td>[segala, sakit, yang , disalahin, vaksin, covid, lieur]</td>\n",
       "    </tr>\n",
       "    <tr>\n",
       "      <th>2</th>\n",
       "      <td>2022-10-31 23:58:14+00:00</td>\n",
       "      <td>kunsh72</td>\n",
       "      <td>bukankah kamu dulu bagian rezim namun setelah terdepak dan sakit hati karena rezekinya hilang maka jadi sok kritis dulu mengkritisi vaksin covid namun saat divaksin pamer di medsos ucapanmu tidak konsisten bro semua karena sakit hati atas hilangnya rezeki</td>\n",
       "      <td>[bukankah, kamu, dulu, bagian, rezim, namun, setelah, terdepak, dan, sakit, hati, karena, rezekinya, hilang, maka, jadi, sok, kritis, dulu, mengkritisi, vaksin, covid, namun, saat, divaksin, pamer, di, medsos, ucapanmu, tidak, konsisten, bro, semua, karena, sakit, hati, atas, hilangnya, rezeki]</td>\n",
       "    </tr>\n",
       "    <tr>\n",
       "      <th>3</th>\n",
       "      <td>2022-10-31 23:57:58+00:00</td>\n",
       "      <td>erni076</td>\n",
       "      <td>aku kan ganti lama dulu sebelum covid menyerang sdh lama beda tahun y beda hrga mas</td>\n",
       "      <td>[saya, kan, ganti, lama, dulu, sebelum, covid, menyerang, sudah , lama, beda, tahun, y, beda, hrga, mas]</td>\n",
       "    </tr>\n",
       "    <tr>\n",
       "      <th>4</th>\n",
       "      <td>2022-10-31 23:57:38+00:00</td>\n",
       "      <td>KENTUSIAS</td>\n",
       "      <td>trus masku kena covid lagi kek yah udah endemi masi ae</td>\n",
       "      <td>[terus , masku, kena, covid, lagi, kek, yah, sudah , endemi, masi, ae]</td>\n",
       "    </tr>\n",
       "  </tbody>\n",
       "</table>\n",
       "</div>"
      ],
      "text/plain": [
       "                     Tanggal     Username                                                                                                                                                                                                                                                             Text                                                                                                                                                                                                                                                                                               Text_Clean\n",
       "0  2022-10-31 23:59:58+00:00   lordkuyang                           dulu di barat upn ada warung kayuh bambai bumbu habangnya sungguh banjar banar semenjak tahun ke covid mereka tutup padahal itu warung yang sangat mengobati kerinduan sama masakan banjar nasi kuning dan soto banjarnya juara sekali                              [dulu, di, barat, upn, ada, warung, kayuh, bambai, bumbu, habangnya, sungguh, banjar, banar, semenjak, tahun, ke, covid, mereka, tutup, padahal, itu, warung, yang, sangat, mengobati, kerinduan, sama, masakan, banjar, nasi, kuning, dan, soto, banjarnya, juara, sekali]\n",
       "1  2022-10-31 23:58:49+00:00  s_h_y_l_l_a                                                                                                                                                                                                                     segala sakit yg disalahin vaksin covid lieur                                                                                                                                                                                                                                                  [segala, sakit, yang , disalahin, vaksin, covid, lieur]\n",
       "2  2022-10-31 23:58:14+00:00      kunsh72  bukankah kamu dulu bagian rezim namun setelah terdepak dan sakit hati karena rezekinya hilang maka jadi sok kritis dulu mengkritisi vaksin covid namun saat divaksin pamer di medsos ucapanmu tidak konsisten bro semua karena sakit hati atas hilangnya rezeki  [bukankah, kamu, dulu, bagian, rezim, namun, setelah, terdepak, dan, sakit, hati, karena, rezekinya, hilang, maka, jadi, sok, kritis, dulu, mengkritisi, vaksin, covid, namun, saat, divaksin, pamer, di, medsos, ucapanmu, tidak, konsisten, bro, semua, karena, sakit, hati, atas, hilangnya, rezeki]\n",
       "3  2022-10-31 23:57:58+00:00      erni076                                                                                                                                                                              aku kan ganti lama dulu sebelum covid menyerang sdh lama beda tahun y beda hrga mas                                                                                                                                                                                                 [saya, kan, ganti, lama, dulu, sebelum, covid, menyerang, sudah , lama, beda, tahun, y, beda, hrga, mas]\n",
       "4  2022-10-31 23:57:38+00:00    KENTUSIAS                                                                                                                                                                                                           trus masku kena covid lagi kek yah udah endemi masi ae                                                                                                                                                                                                                                   [terus , masku, kena, covid, lagi, kek, yah, sudah , endemi, masi, ae]"
      ]
     },
     "execution_count": 309,
     "metadata": {},
     "output_type": "execute_result"
    }
   ],
   "source": [
    "# Filtering | Singkatan Indo\n",
    "normalizad_word = pd.read_csv(\n",
    "    \"https://raw.githubusercontent.com/meisaputri21/Indonesian-Twitter-Emotion-Dataset/master/kamus_singkatan.csv\", sep=\";\", header=None)\n",
    "normalizad_word_dict = {}\n",
    "\n",
    "for index, row in normalizad_word.iterrows():\n",
    "    if row[0] not in normalizad_word_dict:\n",
    "        normalizad_word_dict[row[0]] = row[1]\n",
    "\n",
    "\n",
    "def normalized_term(document):\n",
    "    return [normalizad_word_dict[term] if term in normalizad_word_dict else term for term in document]\n",
    "\n",
    "\n",
    "data['Text_Clean'] = data['Text_Clean'].apply(normalized_term)\n",
    "data.head(5)"
   ]
  },
  {
   "cell_type": "code",
   "execution_count": 312,
   "metadata": {},
   "outputs": [
    {
     "data": {
      "text/html": [
       "<div>\n",
       "<style scoped>\n",
       "    .dataframe tbody tr th:only-of-type {\n",
       "        vertical-align: middle;\n",
       "    }\n",
       "\n",
       "    .dataframe tbody tr th {\n",
       "        vertical-align: top;\n",
       "    }\n",
       "\n",
       "    .dataframe thead th {\n",
       "        text-align: right;\n",
       "    }\n",
       "</style>\n",
       "<table border=\"1\" class=\"dataframe\">\n",
       "  <thead>\n",
       "    <tr style=\"text-align: right;\">\n",
       "      <th></th>\n",
       "      <th>Tanggal</th>\n",
       "      <th>Username</th>\n",
       "      <th>Text</th>\n",
       "      <th>Text_Clean</th>\n",
       "    </tr>\n",
       "  </thead>\n",
       "  <tbody>\n",
       "    <tr>\n",
       "      <th>0</th>\n",
       "      <td>2022-10-31 23:59:58+00:00</td>\n",
       "      <td>lordkuyang</td>\n",
       "      <td>dulu di barat upn ada warung kayuh bambai bumbu habangnya sungguh banjar banar semenjak tahun ke covid mereka tutup padahal itu warung yang sangat mengobati kerinduan sama masakan banjar nasi kuning dan soto banjarnya juara sekali</td>\n",
       "      <td>[dulu, barat, upn, warung, kayuh, bambai, bumbu, habangnya, sungguh, banjar, banar, semenjak, tahun, covid, mereka, tutup, padahal, warung, sangat, mengobati, kerinduan, sama, masakan, banjar, nasi, kuning, soto, banjarnya, juara, sekali]</td>\n",
       "    </tr>\n",
       "    <tr>\n",
       "      <th>1</th>\n",
       "      <td>2022-10-31 23:58:49+00:00</td>\n",
       "      <td>s_h_y_l_l_a</td>\n",
       "      <td>segala sakit yg disalahin vaksin covid lieur</td>\n",
       "      <td>[segala, sakit, disalahin, vaksin, covid, lieur]</td>\n",
       "    </tr>\n",
       "    <tr>\n",
       "      <th>2</th>\n",
       "      <td>2022-10-31 23:58:14+00:00</td>\n",
       "      <td>kunsh72</td>\n",
       "      <td>bukankah kamu dulu bagian rezim namun setelah terdepak dan sakit hati karena rezekinya hilang maka jadi sok kritis dulu mengkritisi vaksin covid namun saat divaksin pamer di medsos ucapanmu tidak konsisten bro semua karena sakit hati atas hilangnya rezeki</td>\n",
       "      <td>[bukankah, kamu, dulu, bagian, rezim, setelah, terdepak, sakit, hati, rezekinya, hilang, sok, kritis, dulu, mengkritisi, vaksin, covid, divaksin, pamer, medsos, ucapanmu, tidak, konsisten, bro, semua, sakit, hati, atas, hilangnya, rezeki]</td>\n",
       "    </tr>\n",
       "    <tr>\n",
       "      <th>3</th>\n",
       "      <td>2022-10-31 23:57:58+00:00</td>\n",
       "      <td>erni076</td>\n",
       "      <td>aku kan ganti lama dulu sebelum covid menyerang sdh lama beda tahun y beda hrga mas</td>\n",
       "      <td>[saya, kan, ganti, lama, dulu, covid, menyerang, sudah , lama, beda, tahun, y, beda, hrga, mas]</td>\n",
       "    </tr>\n",
       "    <tr>\n",
       "      <th>4</th>\n",
       "      <td>2022-10-31 23:57:38+00:00</td>\n",
       "      <td>KENTUSIAS</td>\n",
       "      <td>trus masku kena covid lagi kek yah udah endemi masi ae</td>\n",
       "      <td>[terus , masku, kena, covid, kek, sudah , endemi, masi, ae]</td>\n",
       "    </tr>\n",
       "  </tbody>\n",
       "</table>\n",
       "</div>"
      ],
      "text/plain": [
       "                     Tanggal     Username                                                                                                                                                                                                                                                             Text                                                                                                                                                                                                                                      Text_Clean\n",
       "0  2022-10-31 23:59:58+00:00   lordkuyang                           dulu di barat upn ada warung kayuh bambai bumbu habangnya sungguh banjar banar semenjak tahun ke covid mereka tutup padahal itu warung yang sangat mengobati kerinduan sama masakan banjar nasi kuning dan soto banjarnya juara sekali  [dulu, barat, upn, warung, kayuh, bambai, bumbu, habangnya, sungguh, banjar, banar, semenjak, tahun, covid, mereka, tutup, padahal, warung, sangat, mengobati, kerinduan, sama, masakan, banjar, nasi, kuning, soto, banjarnya, juara, sekali]\n",
       "1  2022-10-31 23:58:49+00:00  s_h_y_l_l_a                                                                                                                                                                                                                     segala sakit yg disalahin vaksin covid lieur                                                                                                                                                                                                [segala, sakit, disalahin, vaksin, covid, lieur]\n",
       "2  2022-10-31 23:58:14+00:00      kunsh72  bukankah kamu dulu bagian rezim namun setelah terdepak dan sakit hati karena rezekinya hilang maka jadi sok kritis dulu mengkritisi vaksin covid namun saat divaksin pamer di medsos ucapanmu tidak konsisten bro semua karena sakit hati atas hilangnya rezeki  [bukankah, kamu, dulu, bagian, rezim, setelah, terdepak, sakit, hati, rezekinya, hilang, sok, kritis, dulu, mengkritisi, vaksin, covid, divaksin, pamer, medsos, ucapanmu, tidak, konsisten, bro, semua, sakit, hati, atas, hilangnya, rezeki]\n",
       "3  2022-10-31 23:57:58+00:00      erni076                                                                                                                                                                              aku kan ganti lama dulu sebelum covid menyerang sdh lama beda tahun y beda hrga mas                                                                                                                                                 [saya, kan, ganti, lama, dulu, covid, menyerang, sudah , lama, beda, tahun, y, beda, hrga, mas]\n",
       "4  2022-10-31 23:57:38+00:00    KENTUSIAS                                                                                                                                                                                                           trus masku kena covid lagi kek yah udah endemi masi ae                                                                                                                                                                                     [terus , masku, kena, covid, kek, sudah , endemi, masi, ae]"
      ]
     },
     "execution_count": 312,
     "metadata": {},
     "output_type": "execute_result"
    }
   ],
   "source": [
    "# Filtering | Stop Word\n",
    "list_stopwords = (['yang', 'untuk', 'pada', 'ke', 'para', 'namun', 'menurut', 'antara', 'seperti', 'jika', 'jika', 'sehingga', 'mungkin', 'kembali', 'dan', 'ini', 'karena', 'oleh', 'saat', 'sekitar', 'bagi', 'serta', 'di', 'dari', 'sebagai', 'hal', 'ketika', 'adalah', 'itu', 'dalam', 'bahwa', 'atau', 'dengan', 'akan', 'juga', 'kalau', 'ada', 'terhadap', 'secara', 'agar', 'lain', 'jadi', 'yang ', 'sudah', 'sudah begitu', 'mengapa', 'kenapa', 'yaitu', 'yakni', 'daripada', 'itulah', 'lagi', 'maka', 'tentang', 'demi', 'dimana', 'kemana', 'pula', 'sambil', 'sebelum', 'sesudah', 'supaya', 'guna', 'kah', 'pun', 'sampai', 'sedangkan', 'selagi',\n",
    "                  'sementara', 'tetapi', 'apakah', 'sebab', 'selain', 'seolah', 'seraya', 'seterusnya', 'dsb', 'dst', 'dll', 'dahulu', 'dulunya', 'anu', 'demikian', 'tapi', 'juga', 'mari', 'nanti', 'melainkan', 'oh', 'ok', 'sebetulnya', 'setiap', 'sesuatu', 'pasti', 'saja', 'toh', 'ya', 'walau', 'apalagi', 'bagaimanapun', 'yg', 'dg', 'rt', 'dgn', 'ny', 'd', 'klo', 'kalo', 'amp', 'biar', 'bikin', 'bilang', 'krn', 'nya', 'nih', 'sih', 'ah', 'ssh', 'om', 'ah', 'si', 'tau', 'tuh', 'utk', 'ya', 'cek', 'jd', 'aja', 't', 'nyg', 'hehe', 'pen', 'nan', 'loh', 'rt', '&amp', 'yah', 'ni', 'ret', 'za', 'nak', 'haa', 'zaa', 'maa', 'lg', 'eh', 'hmm', 'kali'])\n",
    "\n",
    "list_stopwords = set(list_stopwords)\n",
    "\n",
    "\n",
    "def stopwords_removal(words):\n",
    "    return [word for word in words if word not in list_stopwords]\n",
    "\n",
    "\n",
    "data['Text_Clean'] = data['Text_Clean'].apply(stopwords_removal)\n",
    "data.head(5)"
   ]
  },
  {
   "cell_type": "markdown",
   "metadata": {},
   "source": [
    "## **2.1 Menejermah Tweet Clean hasil Preproc ke Bahasa Inggris** (Translating)"
   ]
  },
  {
   "cell_type": "code",
   "execution_count": null,
   "metadata": {},
   "outputs": [],
   "source": [
    "%pip install googletrans==4.0.0rc1"
   ]
  },
  {
   "cell_type": "code",
   "execution_count": null,
   "metadata": {},
   "outputs": [],
   "source": [
    "from googletrans import Translator\n",
    "\n",
    "translate = Translator()\n",
    "\n",
    "out = translate.translate(['veritas lux mea', 'lorem ipsum', 'gnocchi', 'dolor sit amet'], dest='en')\n",
    "\n",
    "print(out.text)"
   ]
  },
  {
   "cell_type": "markdown",
   "metadata": {},
   "source": [
    "## **2.2 Stemming**"
   ]
  },
  {
   "cell_type": "markdown",
   "metadata": {},
   "source": [
    "## **3. Modelling Data** (Modeling and Training)"
   ]
  },
  {
   "cell_type": "markdown",
   "metadata": {},
   "source": [
    "## **4. Klasifikasi Data dengan Naive Bayes** (Classification)"
   ]
  }
 ],
 "metadata": {
  "kernelspec": {
   "display_name": "Python 3.8.0 64-bit",
   "language": "python",
   "name": "python3"
  },
  "language_info": {
   "codemirror_mode": {
    "name": "ipython",
    "version": 3
   },
   "file_extension": ".py",
   "mimetype": "text/x-python",
   "name": "python",
   "nbconvert_exporter": "python",
   "pygments_lexer": "ipython3",
   "version": "3.8.0"
  },
  "orig_nbformat": 4,
  "vscode": {
   "interpreter": {
    "hash": "898a950986d43450680efc03f9903704e020e6e6b23d64c62a66308a081cc53c"
   }
  }
 },
 "nbformat": 4,
 "nbformat_minor": 2
}
