{
 "cells": [
  {
   "cell_type": "markdown",
   "metadata": {},
   "source": [
    "# **Projek Akhir Praktikum Data Science**\n",
    "\n",
    "> Analisis Sentimen Mengenai Vaksin COVID-19 Di Indonesia Menggunakan Metode Naive Bayes Classifier dan NLP Pada Sosial Media Twitter\n",
    "\n",
    "**Oleh Kelompok 2 :**\n",
    "1. Hazlan Muhammad Qodri (123190080) @hzlnqodrey\n",
    "2. Elisia Dwi Rahayu (123190062) @elisiadwirahayu\n",
    "3. Shania Septika Inayasari (123190055) @shaniainayasari\n",
    "\n",
    "**Penjelasan Projek :**\n",
    "\n",
    "Adapun pada penelitian menekankan kepada sentimen masyarakat terhadap mengenai vaksin COVID-19. Proses analisisnya akan dilakukan berdasarkan tweet yang menyertakan tagar vaksin dan pencarian di twitter dengan keyword vaksin covid 19."
   ]
  },
  {
   "cell_type": "markdown",
   "metadata": {},
   "source": [
    "## **1. Scraping Data from Twitter**"
   ]
  },
  {
   "cell_type": "code",
   "execution_count": null,
   "metadata": {},
   "outputs": [],
   "source": [
    "%pip install snscrape"
   ]
  },
  {
   "cell_type": "code",
   "execution_count": null,
   "metadata": {},
   "outputs": [],
   "source": [
    "import pandas as pd\n",
    "import snscrape.modules.twitter as sntwitter"
   ]
  },
  {
   "cell_type": "markdown",
   "metadata": {},
   "source": [
    "#### Query"
   ]
  },
  {
   "cell_type": "code",
   "execution_count": null,
   "metadata": {},
   "outputs": [],
   "source": [
    "# Get All Covid Sentiment Data from January 1st, 2020 until November 1st, 2022\n",
    "query = \"covid since:2020-01-01 until:2022-11-01 lang:id\"\n",
    "limit = 50000 # limit 50k rows"
   ]
  },
  {
   "cell_type": "code",
   "execution_count": null,
   "metadata": {},
   "outputs": [],
   "source": [
    "tweets = []\n",
    "\n",
    "for tweet in sntwitter.TwitterSearchScraper(query).get_items():\n",
    "    if len(tweets) == limit:\n",
    "        break\n",
    "    else:\n",
    "        tweets.append([\n",
    "            tweet.date,\n",
    "            tweet.username,\n",
    "            tweet.content\n",
    "        ])\n",
    "\n",
    "filename = 'tweets_covid_dataset_50k_raw_noindex.csv'\n",
    "tweets_df = pd.DataFrame(tweets, columns=['Tanggal', 'Username', 'Text'])\n",
    "tweets_df.to_csv(filename, index=False)\n",
    "print('Scraping has completed!')"
   ]
  },
  {
   "cell_type": "markdown",
   "metadata": {},
   "source": [
    "## **2. Wrangling Data** (Preprocessing)"
   ]
  },
  {
   "cell_type": "code",
   "execution_count": null,
   "metadata": {},
   "outputs": [],
   "source": [
    "%pip install tweet-preprocessor\n",
    "%pip install textblob\n",
    "%pip install wordcloud\n",
    "%pip install nltk"
   ]
  },
  {
   "cell_type": "code",
   "execution_count": null,
   "metadata": {},
   "outputs": [],
   "source": [
    "import preprocessor as preproc\n",
    "from textblob import TextBlob\n",
    "from nltk.stem import PorterStemmer\n",
    "from nltk.tokenize import word_tokenize\n",
    "import csv"
   ]
  },
  {
   "cell_type": "code",
   "execution_count": 25,
   "metadata": {},
   "outputs": [],
   "source": [
    "# get data from dataset\n",
    "data = pd.read_csv('https://raw.githubusercontent.com/hzlnqodrey/projek-akhir-prak-ds-sentimen-analisis-twitter-covid19-nlp-bayes/main/tweets_covid_dataset_50k_raw.csv')"
   ]
  },
  {
   "cell_type": "code",
   "execution_count": 26,
   "metadata": {},
   "outputs": [
    {
     "name": "stdout",
     "output_type": "stream",
     "text": [
      "<class 'pandas.core.frame.DataFrame'>\n",
      "RangeIndex: 50000 entries, 0 to 49999\n",
      "Data columns (total 4 columns):\n",
      " #   Column      Non-Null Count  Dtype \n",
      "---  ------      --------------  ----- \n",
      " 0   Unnamed: 0  50000 non-null  int64 \n",
      " 1   Tanggal     50000 non-null  object\n",
      " 2   Username    50000 non-null  object\n",
      " 3   Text        50000 non-null  object\n",
      "dtypes: int64(1), object(3)\n",
      "memory usage: 1.5+ MB\n"
     ]
    }
   ],
   "source": [
    "data.info()"
   ]
  },
  {
   "cell_type": "code",
   "execution_count": 27,
   "metadata": {},
   "outputs": [
    {
     "data": {
      "text/html": [
       "<div>\n",
       "<style scoped>\n",
       "    .dataframe tbody tr th:only-of-type {\n",
       "        vertical-align: middle;\n",
       "    }\n",
       "\n",
       "    .dataframe tbody tr th {\n",
       "        vertical-align: top;\n",
       "    }\n",
       "\n",
       "    .dataframe thead th {\n",
       "        text-align: right;\n",
       "    }\n",
       "</style>\n",
       "<table border=\"1\" class=\"dataframe\">\n",
       "  <thead>\n",
       "    <tr style=\"text-align: right;\">\n",
       "      <th></th>\n",
       "      <th>Unnamed: 0</th>\n",
       "      <th>Tanggal</th>\n",
       "      <th>Username</th>\n",
       "      <th>Text</th>\n",
       "    </tr>\n",
       "  </thead>\n",
       "  <tbody>\n",
       "    <tr>\n",
       "      <th>34644</th>\n",
       "      <td>34644</td>\n",
       "      <td>2022-10-16 12:21:39+00:00</td>\n",
       "      <td>edoding</td>\n",
       "      <td>dulu aja ditakut-takutin Covid sans aja\\n\\nmas...</td>\n",
       "    </tr>\n",
       "    <tr>\n",
       "      <th>1476</th>\n",
       "      <td>1476</td>\n",
       "      <td>2022-10-31 07:26:14+00:00</td>\n",
       "      <td>pajaklangsa</td>\n",
       "      <td>Upacara Hari Oeang ke-76 ini merupakan perayaa...</td>\n",
       "    </tr>\n",
       "    <tr>\n",
       "      <th>46481</th>\n",
       "      <td>46481</td>\n",
       "      <td>2022-10-11 09:42:34+00:00</td>\n",
       "      <td>khalids</td>\n",
       "      <td>peduli ke pasal korang? Samalah macam penipuan...</td>\n",
       "    </tr>\n",
       "    <tr>\n",
       "      <th>13046</th>\n",
       "      <td>13046</td>\n",
       "      <td>2022-10-26 01:28:49+00:00</td>\n",
       "      <td>ziyyuki</td>\n",
       "      <td>Covid centre call I wei 😂 dia suspect I may kn...</td>\n",
       "    </tr>\n",
       "    <tr>\n",
       "      <th>8109</th>\n",
       "      <td>8109</td>\n",
       "      <td>2022-10-28 10:44:05+00:00</td>\n",
       "      <td>pikiran_rakyat</td>\n",
       "      <td>[UPDATE] Covid-19 di Indonesia per 28 Oktober ...</td>\n",
       "    </tr>\n",
       "  </tbody>\n",
       "</table>\n",
       "</div>"
      ],
      "text/plain": [
       "       Unnamed: 0                    Tanggal        Username  \\\n",
       "34644       34644  2022-10-16 12:21:39+00:00         edoding   \n",
       "1476         1476  2022-10-31 07:26:14+00:00     pajaklangsa   \n",
       "46481       46481  2022-10-11 09:42:34+00:00         khalids   \n",
       "13046       13046  2022-10-26 01:28:49+00:00         ziyyuki   \n",
       "8109         8109  2022-10-28 10:44:05+00:00  pikiran_rakyat   \n",
       "\n",
       "                                                    Text  \n",
       "34644  dulu aja ditakut-takutin Covid sans aja\\n\\nmas...  \n",
       "1476   Upacara Hari Oeang ke-76 ini merupakan perayaa...  \n",
       "46481  peduli ke pasal korang? Samalah macam penipuan...  \n",
       "13046  Covid centre call I wei 😂 dia suspect I may kn...  \n",
       "8109   [UPDATE] Covid-19 di Indonesia per 28 Oktober ...  "
      ]
     },
     "execution_count": 27,
     "metadata": {},
     "output_type": "execute_result"
    }
   ],
   "source": [
    "data.sample(n=5)"
   ]
  },
  {
   "cell_type": "markdown",
   "metadata": {},
   "source": [
    "##### 1. Case Folding"
   ]
  },
  {
   "cell_type": "code",
   "execution_count": 29,
   "metadata": {},
   "outputs": [
    {
     "name": "stdout",
     "output_type": "stream",
     "text": [
      "Case Folding Result : \n",
      "\n",
      "0    @riderkulineran dulu di barat upn ada warung k...\n",
      "1       segala sakit yg disalahin vaksin covid. lieur.\n",
      "2    @msaid_didu bukankah kamu dulu bagian rezim?, ...\n",
      "3    @buggiyx @sbyfess \"aku kan ganti lama dulu. se...\n",
      "4    trus masku kena covid lagi kek yah udah endemi...\n",
      "Name: Text, dtype: object\n",
      "22488    @pyd0322 @nunu_29 @oposite84159900 @cnnindones...\n",
      "10443    #satgas: vaksin covid-19 yang ada masih etekti...\n",
      "35107    @sarminausman @urrangawak banjir tdk becus ata...\n",
      "44323    keren, jokowi meresmikan pabrik vaksin covid-1...\n",
      "44009    ktt g20 indonesia membantu pemulihan dunia pas...\n",
      "Name: Text, dtype: object\n",
      "49995    sampai endemi covid-19 tiba, tetap lakukan pro...\n",
      "49996    \"mungkin sebentar lagi akan kita nyatakan pand...\n",
      "49997    pak jokowi imbau kemungkinan akan umumkan ende...\n",
      "49998    presiden jokowi resmikan pabrik vaksin covid-1...\n",
      "49999    pandemi sudah mulai mereda. namun jangan menja...\n",
      "Name: Text, dtype: object\n",
      "\n",
      "\n",
      "\n",
      "\n"
     ]
    }
   ],
   "source": [
    "data['Text'] = data['Text'].str.lower()\n",
    "print('Case Folding Result : \\n')\n",
    "print(data['Text'].head(5))\n",
    "print(data['Text'].sample(n=5))\n",
    "print(data['Text'].tail(5))\n",
    "print('\\n\\n\\n')"
   ]
  },
  {
   "cell_type": "markdown",
   "metadata": {},
   "source": [
    "##### 2. Cleaning"
   ]
  },
  {
   "cell_type": "code",
   "execution_count": null,
   "metadata": {},
   "outputs": [],
   "source": []
  },
  {
   "cell_type": "markdown",
   "metadata": {},
   "source": [
    "##### 3. Tokenizing"
   ]
  },
  {
   "cell_type": "markdown",
   "metadata": {},
   "source": [
    "##### 4. Filtering"
   ]
  },
  {
   "cell_type": "markdown",
   "metadata": {},
   "source": [
    "## **2.1 Stemming**"
   ]
  },
  {
   "cell_type": "markdown",
   "metadata": {},
   "source": [
    "## **2.2 Menejermah Tweet Clean hasil Preproc ke Bahasa Inggris** (Translating)"
   ]
  },
  {
   "cell_type": "markdown",
   "metadata": {},
   "source": [
    "## **3. Modelling Data** (Modeling and Training)"
   ]
  },
  {
   "cell_type": "markdown",
   "metadata": {},
   "source": [
    "## **4. Klasifikasi Data dengan Naive Bayes** (Classification)"
   ]
  }
 ],
 "metadata": {
  "kernelspec": {
   "display_name": "Python 3.8.0 64-bit",
   "language": "python",
   "name": "python3"
  },
  "language_info": {
   "codemirror_mode": {
    "name": "ipython",
    "version": 3
   },
   "file_extension": ".py",
   "mimetype": "text/x-python",
   "name": "python",
   "nbconvert_exporter": "python",
   "pygments_lexer": "ipython3",
   "version": "3.8.0"
  },
  "orig_nbformat": 4,
  "vscode": {
   "interpreter": {
    "hash": "898a950986d43450680efc03f9903704e020e6e6b23d64c62a66308a081cc53c"
   }
  }
 },
 "nbformat": 4,
 "nbformat_minor": 2
}
